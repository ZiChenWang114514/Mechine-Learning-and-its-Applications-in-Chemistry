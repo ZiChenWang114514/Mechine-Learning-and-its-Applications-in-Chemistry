{
 "cells": [
  {
   "cell_type": "markdown",
   "metadata": {},
   "source": [
    "当然可以，很高兴帮助你学习 PyTorch！\n",
    "\n",
    "### PyTorch 简介\n",
    "\n",
    "PyTorch 是一个开源的机器学习库，广泛应用于计算机视觉、自然语言处理等领域。它是由Facebook的人工智能研究团队开发的，基于之前的Torch库。\n",
    "\n",
    "#### Torch 和 PyTorch 的关系\n",
    "- **Torch**: 最初是一个提供多维数组操作的科学计算库，使用Lua语言编写。它的核心是Tensor操作，类似于NumPy，但它还支持GPU加速。\n",
    "- **PyTorch**: 是Torch的Python版本。它不仅继承了Torch的核心特性，比如张量计算和GPU加速，还加入了动态神经网络（Dynamic Neural Networks）和自动微分（Autograd）功能，使得模型的设计和训练更加灵活和强大。\n",
    "\n",
    "### PyTorch 的主要功能\n",
    "\n",
    "1. **张量操作**: 张量（Tensors）在PyTorch中类似于NumPy的数组，但它们可以在GPU上运行，大大加速了计算。\n",
    "\n",
    "2. **动态计算图**: PyTorch 使用动态计算图（也称为即时执行模式），这意味着图是按运行顺序构建的，每个节点都可以动态地改变。\n",
    "\n",
    "3. **自动微分**: 通过其`autograd`系统，PyTorch 自动计算模型参数的梯度，这对于神经网络训练至关重要。\n",
    "\n",
    "4. **模块化和重用**: PyTorch 提供了大量预构建的层和模块，使得构建和训练神经网络变得更简单。\n",
    "\n",
    "5. **支持多种类型的神经网络**: 包括卷积神经网络（CNNs）、循环神经网络（RNNs）、长短期记忆网络（LSTMs）等。\n",
    "\n",
    "6. **易于集成和扩展**: PyTorch 可以轻松与其他Python库（如NumPy和SciPy）集成，并且容易扩展以支持新的建模和训练方法。\n",
    "\n",
    "7. **活跃的社区和丰富的文档**: PyTorch 拥有一个非常活跃的社区，提供大量教程、文档和论坛支持。\n",
    "\n",
    "### 开始学习 PyTorch\n",
    "\n",
    "学习 PyTorch 的最好方法是通过实践。你可以开始尝试一些基本的Tensor操作，然后逐渐学习构建和训练简单的神经网络。PyTorch 官网提供了大量的教程和文档，这将是一个很好的起点。\n",
    "\n",
    "如果你有任何具体的问题或者需要解释一些概念，请随时提问！我会尽力帮助你理解和掌握 PyTorch。\n",
    "\n",
    "### 知识点\n",
    "\n",
    "学习PyTorch时，有几个关键知识点是非常重要的。这些知识点不仅涵盖了基本的操作和概念，还包括了一些进阶技术，这些对于构建和优化深度学习模型至关重要。下面是一些主要的关键知识点：\n",
    "\n",
    "#### 1. 张量（Tensors）\n",
    "- 张量的基本操作：创建、索引、切片、重塑、连接等。\n",
    "- 数据类型和设备：理解不同数据类型及其如何在CPU和GPU之间转移。\n",
    "\n",
    "#### 2. 自动微分（Autograd）\n",
    "- 理解自动微分机制和计算图。\n",
    "- 使用`.backward()`进行梯度计算。\n",
    "- 管理和操作梯度，例如`.detach()`和`.requires_grad_()`。\n",
    "\n",
    "#### 3. 神经网络构建\n",
    "- 使用`torch.nn`模块构建网络。\n",
    "- 理解常见的层（如全连接层、卷积层、RNN层）和激活函数。\n",
    "- 自定义网络层和复杂模型架构。\n",
    "\n",
    "#### 4. 损失函数和优化器\n",
    "- 了解不同的损失函数（如均方误差、交叉熵）。\n",
    "- 使用不同的优化器（如SGD、Adam）。\n",
    "\n",
    "#### 5. 数据加载和处理\n",
    "- 使用`torch.utils.data.Dataset`和`torch.utils.data.DataLoader`处理和加载数据。\n",
    "- 数据增强和预处理。\n",
    "\n",
    "#### 6. 训练和评估模型\n",
    "- 训练循环：前向传播、损失计算、反向传播、优化器步骤。\n",
    "- 评估模型性能，处理过拟合和欠拟合。\n",
    "- 保存和加载模型。\n",
    "\n",
    "#### 7. GPU加速\n",
    "- 将数据和模型移动到GPU。\n",
    "- 理解CUDA张量和内存管理。\n",
    "\n",
    "#### 8. 调试和性能优化\n",
    "- 使用调试工具和技巧（如打印形状和类型，使用断点）。\n",
    "- 理解并优化模型的内存和计算效率。\n",
    "\n",
    "#### 9. 高级主题\n",
    "- 理解和使用卷积神经网络（CNNs）、循环神经网络（RNNs）、长短期记忆网络（LSTMs）。\n",
    "- 熟悉迁移学习和微调。\n",
    "- 探索最新的模型架构和技术，比如Transformer、GANs等。\n",
    "\n",
    "#### 10. 社区和资源\n",
    "- 利用PyTorch社区、论坛、文档和在线教程。\n",
    "- 阅读最新的研究论文和技术博客，了解行业动态。\n",
    "\n",
    "每个知识点都是一个广阔的领域，需要通过实践、阅读文档和学习最佳实践来深入理解。随着你不断实践和探索，你将会在使用PyTorch方面变得越来越熟练。如果你对任何特定主题有更详细的问题，请随时提问！"
   ]
  },
  {
   "cell_type": "markdown",
   "metadata": {},
   "source": [
    "## Tensor"
   ]
  },
  {
   "cell_type": "markdown",
   "metadata": {},
   "source": [
    "当然，了解Tensor是使用PyTorch的基础。在PyTorch中，Tensor是一个多维数组，类似于NumPy的ndarray，但它可以在GPU上运行以加速计算。这里是一些基本的Tensor操作："
   ]
  },
  {
   "cell_type": "markdown",
   "metadata": {},
   "source": [
    "### 1. 创建Tensor\n",
    "- **从现有数据创建**:"
   ]
  },
  {
   "cell_type": "code",
   "execution_count": 91,
   "metadata": {},
   "outputs": [
    {
     "data": {
      "text/plain": [
       "tensor([[1, 2],\n",
       "        [3, 4]])"
      ]
     },
     "execution_count": 91,
     "metadata": {},
     "output_type": "execute_result"
    }
   ],
   "source": [
    "import torch\n",
    "data = [[1, 2], [3, 4]]\n",
    "x_data = torch.tensor(data)\n",
    "x_data"
   ]
  },
  {
   "cell_type": "markdown",
   "metadata": {},
   "source": [
    "- **从NumPy数组创建**:"
   ]
  },
  {
   "cell_type": "code",
   "execution_count": 92,
   "metadata": {},
   "outputs": [
    {
     "data": {
      "text/plain": [
       "tensor([[1, 2],\n",
       "        [3, 4]], dtype=torch.int32)"
      ]
     },
     "execution_count": 92,
     "metadata": {},
     "output_type": "execute_result"
    }
   ],
   "source": [
    "import numpy as np\n",
    "np_array = np.array(data)\n",
    "x_np = torch.from_numpy(np_array)\n",
    "x_np"
   ]
  },
  {
   "cell_type": "markdown",
   "metadata": {},
   "source": [
    "- **使用内置函数**:"
   ]
  },
  {
   "cell_type": "code",
   "execution_count": 93,
   "metadata": {},
   "outputs": [
    {
     "data": {
      "text/plain": [
       "(tensor([[1, 1],\n",
       "         [1, 1]]),\n",
       " tensor([[0.0491, 0.9765],\n",
       "         [0.5513, 0.8740]]))"
      ]
     },
     "execution_count": 93,
     "metadata": {},
     "output_type": "execute_result"
    }
   ],
   "source": [
    "x_ones = torch.ones_like(x_data) # 保持x_data的属性\n",
    "x_rand = torch.rand_like(x_data, dtype=torch.float) # 覆盖x_data的数据类型\n",
    "x_ones, x_rand"
   ]
  },
  {
   "cell_type": "markdown",
   "metadata": {},
   "source": [
    "- **使用随机或常量值**:"
   ]
  },
  {
   "cell_type": "code",
   "execution_count": 94,
   "metadata": {},
   "outputs": [],
   "source": [
    "shape = (2,3,) # 形状为2x3的tensor\n",
    "rand_tensor = torch.rand(shape)\n",
    "ones_tensor = torch.ones(shape)\n",
    "zeros_tensor = torch.zeros(shape)"
   ]
  },
  {
   "cell_type": "markdown",
   "metadata": {},
   "source": [
    "### 2. Tensor的属性\n",
    "- **形状、数据类型和所在设备**:"
   ]
  },
  {
   "cell_type": "code",
   "execution_count": 95,
   "metadata": {},
   "outputs": [
    {
     "name": "stdout",
     "output_type": "stream",
     "text": [
      "Shape of tensor: torch.Size([3, 4])\n",
      "Datatype of tensor: torch.float32\n",
      "Device tensor is stored on: cpu\n"
     ]
    }
   ],
   "source": [
    "tensor = torch.rand(3,4)\n",
    "print(f\"Shape of tensor: {tensor.shape}\")\n",
    "print(f\"Datatype of tensor: {tensor.dtype}\")\n",
    "print(f\"Device tensor is stored on: {tensor.device}\")"
   ]
  },
  {
   "cell_type": "markdown",
   "metadata": {},
   "source": [
    "### 3. Tensor运算\n",
    "- **移动到GPU**:"
   ]
  },
  {
   "cell_type": "code",
   "execution_count": 96,
   "metadata": {},
   "outputs": [
    {
     "data": {
      "text/plain": [
       "tensor([[0.9024, 0.7696, 0.5053, 0.6065],\n",
       "        [0.2884, 0.0548, 0.3318, 0.9045],\n",
       "        [0.5623, 0.1248, 0.8539, 0.0942]], device='cuda:0')"
      ]
     },
     "execution_count": 96,
     "metadata": {},
     "output_type": "execute_result"
    }
   ],
   "source": [
    "# 如果CUDA可用\n",
    "if torch.cuda.is_available():\n",
    "    tensor = tensor.to('cuda')\n",
    "tensor"
   ]
  },
  {
   "cell_type": "markdown",
   "metadata": {},
   "source": [
    "- **标准索引和切片**:"
   ]
  },
  {
   "cell_type": "code",
   "execution_count": 97,
   "metadata": {},
   "outputs": [],
   "source": [
    "tensor = torch.ones(4, 4)\n",
    "tensor[:,1] = 0 # 第二列的所有元素赋值为0"
   ]
  },
  {
   "cell_type": "markdown",
   "metadata": {},
   "source": [
    "- **连接Tensors**:"
   ]
  },
  {
   "cell_type": "code",
   "execution_count": 98,
   "metadata": {},
   "outputs": [
    {
     "data": {
      "text/plain": [
       "tensor([[1., 0., 1., 1., 1., 0., 1., 1., 1., 0., 1., 1.],\n",
       "        [1., 0., 1., 1., 1., 0., 1., 1., 1., 0., 1., 1.],\n",
       "        [1., 0., 1., 1., 1., 0., 1., 1., 1., 0., 1., 1.],\n",
       "        [1., 0., 1., 1., 1., 0., 1., 1., 1., 0., 1., 1.]])"
      ]
     },
     "execution_count": 98,
     "metadata": {},
     "output_type": "execute_result"
    }
   ],
   "source": [
    "t1 = torch.cat([tensor, tensor, tensor], dim=1)\n",
    "t1"
   ]
  },
  {
   "cell_type": "markdown",
   "metadata": {},
   "source": [
    "- **乘法运算**:"
   ]
  },
  {
   "cell_type": "code",
   "execution_count": 99,
   "metadata": {},
   "outputs": [
    {
     "name": "stdout",
     "output_type": "stream",
     "text": [
      "tensor.mul(tensor) \n",
      " tensor([[1., 0., 1., 1.],\n",
      "        [1., 0., 1., 1.],\n",
      "        [1., 0., 1., 1.],\n",
      "        [1., 0., 1., 1.]]) \n",
      "\n",
      "tensor * tensor \n",
      " tensor([[1., 0., 1., 1.],\n",
      "        [1., 0., 1., 1.],\n",
      "        [1., 0., 1., 1.],\n",
      "        [1., 0., 1., 1.]])\n"
     ]
    }
   ],
   "source": [
    "# Element-wise Product\n",
    "print(f\"tensor.mul(tensor) \\n {tensor.mul(tensor)} \\n\")\n",
    "# Alternative syntax for element-wise product\n",
    "print(f\"tensor * tensor \\n {tensor * tensor}\")"
   ]
  },
  {
   "cell_type": "markdown",
   "metadata": {},
   "source": [
    "- **就地操作**:"
   ]
  },
  {
   "cell_type": "code",
   "execution_count": 100,
   "metadata": {},
   "outputs": [
    {
     "name": "stdout",
     "output_type": "stream",
     "text": [
      "tensor([[1., 0., 1., 1.],\n",
      "        [1., 0., 1., 1.],\n",
      "        [1., 0., 1., 1.],\n",
      "        [1., 0., 1., 1.]]) \n",
      "\n",
      "tensor([[6., 5., 6., 6.],\n",
      "        [6., 5., 6., 6.],\n",
      "        [6., 5., 6., 6.],\n",
      "        [6., 5., 6., 6.]])\n"
     ]
    }
   ],
   "source": [
    "print(tensor, \"\\n\")\n",
    "tensor.add_(5) # 将5加到tensor的每个元素，就地修改\n",
    "print(tensor)"
   ]
  },
  {
   "cell_type": "markdown",
   "metadata": {},
   "source": [
    "### 4. Tensor与NumPy的互操作性\n",
    "- **Tensor到NumPy数组**:"
   ]
  },
  {
   "cell_type": "code",
   "execution_count": 101,
   "metadata": {},
   "outputs": [
    {
     "name": "stdout",
     "output_type": "stream",
     "text": [
      "t: tensor([1., 1., 1., 1., 1.])\n",
      "n: [1. 1. 1. 1. 1.]\n"
     ]
    }
   ],
   "source": [
    "t = torch.ones(5)\n",
    "print(f\"t: {t}\")\n",
    "n = t.numpy()\n",
    "print(f\"n: {n}\")"
   ]
  },
  {
   "cell_type": "markdown",
   "metadata": {},
   "source": [
    "- **NumPy数组到Tensor**:"
   ]
  },
  {
   "cell_type": "code",
   "execution_count": 102,
   "metadata": {},
   "outputs": [
    {
     "data": {
      "text/plain": [
       "(array([1., 1., 1., 1., 1.]),\n",
       " tensor([1., 1., 1., 1., 1.], dtype=torch.float64))"
      ]
     },
     "execution_count": 102,
     "metadata": {},
     "output_type": "execute_result"
    }
   ],
   "source": [
    "n = np.ones(5)\n",
    "t = torch.from_numpy(n)\n",
    "n, t"
   ]
  },
  {
   "cell_type": "markdown",
   "metadata": {},
   "source": [
    "- **注意**: Tensor和NumPy数组将共享其底层内存位置，因此改变其中一个会改变另一个。"
   ]
  },
  {
   "cell_type": "markdown",
   "metadata": {},
   "source": [
    "### 5. 自动微分 (Autograd)\n",
    "- **追踪Tensor的操作**:"
   ]
  },
  {
   "cell_type": "code",
   "execution_count": 103,
   "metadata": {},
   "outputs": [
    {
     "name": "stdout",
     "output_type": "stream",
     "text": [
      "tensor([3.3493, 2.9575, 3.4702])\n"
     ]
    }
   ],
   "source": [
    "x = torch.rand(3, requires_grad=True)\n",
    "y = x + 2\n",
    "z = y * y * 2\n",
    "z = z.mean()\n",
    "z.backward() # 自动计算梯度\n",
    "print(x.grad) # ∂z/∂x"
   ]
  },
  {
   "cell_type": "markdown",
   "metadata": {},
   "source": [
    "## Tensor.shape\n",
    "\n",
    "确实，神经网络中Tensor形状的匹配是非常重要的。形状不匹配可能会导致运行时错误，尤其是在进行矩阵运算、数据重塑、模型层之间传递数据时。理解和处理形状匹配问题是构建有效神经网络的关键。\n",
    "\n",
    "### Tensor形状匹配的重要性\n",
    "\n",
    "1. **矩阵运算**: 神经网络中的很多操作，如线性层（全连接层）或卷积层，依赖于矩阵乘法。这些操作要求输入数据的维度与权重矩阵的维度相匹配。\n",
    "\n",
    "2. **数据批处理**: 在训练神经网络时，通常使用批处理来提高效率。这要求所有数据点的形状相同，以便能够堆叠成一个批次。\n",
    "\n",
    "3. **特征图尺寸**: 在卷积神经网络中，特征图（feature maps）的尺寸需要根据卷积层、池化层等操作正确计算和调整。\n",
    "\n",
    "### 如何处理形状匹配问题\n",
    "\n",
    "1. **理解网络结构**: 熟悉每一层的输入和输出形状。例如，了解全连接层、卷积层、池化层、RNN层等的工作原理和输出特性。\n",
    "\n",
    "2. **使用形状查询**: 在编写模型时，经常打印中间层的输出形状可以帮助理解数据是如何流动的。例如，使用`print(x.shape)`。\n",
    "\n",
    "3. **调整Tensor形状**:\n",
    "   - **重塑（Reshape）**: 使用`torch.reshape`或`tensor.view`来更改Tensor的形状。\n",
    "   - **扩展维度（Squeeze and Unsqueeze）**: 使用`torch.unsqueeze`或`torch.squeeze`来增加或删除单维度。\n",
    "   - **转置（Transpose）**: 对于二维以上的Tensor，使用`torch.transpose`来交换维度。\n",
    "\n",
    "4. **确保批次一致性**: 使用批处理时，确保所有数据点具有相同的形状。\n",
    "\n",
    "5. **动态计算形状**: 在某些情况下，你可能需要动态计算某些层的形状，尤其是在处理不同尺寸输入时。\n",
    "\n",
    "6. **使用合适的层和操作**: 比如在需要降维或增维时适当使用卷积层、池化层、全连接层等。\n",
    "\n",
    "7. **错误处理**: 当遇到形状不匹配的错误时，仔细检查错误信息，它通常会告诉你哪里发生了形状不匹配。\n",
    "\n",
    "8. **文档和社区资源**: 利用PyTorch文档和在线社区资源来寻求帮助和最佳实践。\n",
    "\n",
    "### 实际示例\n",
    "\n",
    "假设你有一个简单的全连接神经网络，输入形状为`[batch_size, features]`。网络的第一层全连接层接受`features`个特征，输出更多或更少的特征。你需要确保第二层的输入特征数量与第一层的输出特征数量匹配。"
   ]
  },
  {
   "cell_type": "code",
   "execution_count": 104,
   "metadata": {},
   "outputs": [
    {
     "name": "stdout",
     "output_type": "stream",
     "text": [
      "Input shape: torch.Size([3, 10])\n",
      "Output shape: torch.Size([3, 5])\n"
     ]
    }
   ],
   "source": [
    "import torch\n",
    "import torch.nn as nn\n",
    "\n",
    "class SimpleNet(nn.Module):\n",
    "    def __init__(self):\n",
    "        super(SimpleNet, self).__init__()\n",
    "        self.fc1 = nn.Linear(10, 20)  # 第一层: 接受10个特征，输出20个特征\n",
    "        self.fc2 = nn.Linear(20, 5)   # 第二层: 接受20个特征（与上一层匹配），输出5个特征\n",
    "\n",
    "    def forward(self, x):\n",
    "        x = self.fc1(x)\n",
    "        x = self.fc2(x)\n",
    "        return x\n",
    "\n",
    "# 实例化网络\n",
    "net = SimpleNet()\n",
    "\n",
    "# 创建一个假的数据批量\n",
    "batch_size = 3\n",
    "input_features = 10\n",
    "x = torch.randn(batch_size, input_features)\n",
    "\n",
    "# 检查输入数据的形状\n",
    "print(f\"Input shape: {x.shape}\")\n",
    "\n",
    "# 通过网络进行前向传播\n",
    "output = net(x)\n",
    "\n",
    "# 检查输出数据的形状\n",
    "print(f\"Output shape: {output.shape}\")\n"
   ]
  },
  {
   "cell_type": "markdown",
   "metadata": {},
   "source": [
    "在PyTorch中，`autograd`模块提供了自动微分的功能，这是训练神经网络的核心。理解并掌握自动微分是深度学习中的一个关键步骤。我将详细解释这个概念及其在PyTorch中的应用。\n",
    "\n",
    "### 自动微分（Autograd）概述\n",
    "\n",
    "`autograd`是PyTorch的自动微分引擎，它可以自动计算导数。这是通过构建一个计算图来实现的，计算图是一种数据结构，其中节点代表数学操作，边代表张量（Tensor）。当在网络中进行前向运算时，`autograd`同时构建了一个表示该运算的图，然后在反向传播时利用这个图来自动计算梯度。\n",
    "\n",
    "### 关键概念\n",
    "\n",
    "- **张量（Tensor）**: 在PyTorch中，`Tensor`是`autograd`的核心。当一个`Tensor`的`.requires_grad`属性被设置为`True`时，它开始追踪所有的操作。\n",
    "\n",
    "- **计算图（Computation Graph）**: 是一个动态图，可以在运行时构建，每当进行一个操作，图就会相应地变化。\n",
    "\n",
    "- **梯度（Gradient）**: 当计算图构建完成后，通过调用`.backward()`方法，可以自动计算图中所有的梯度。\n",
    "\n",
    "### Autograd的工作流程\n",
    "\n",
    "1. **定义张量并设置`requires_grad`**: 创建张量时，通过将`requires_grad`设为`True`来告诉PyTorch需要对该张量进行梯度计算。\n",
    "\n",
    "2. **执行操作构建计算图**: 当对这些张量进行操作时，PyTorch会在后台自动构建计算图。\n",
    "\n",
    "3. **计算梯度**: 完成前向传播后，通过调用`.backward()`来自动计算梯度。PyTorch会回溯计算图并计算这些梯度。\n",
    "\n",
    "4. **梯度累积**: 默认情况下，梯度会累积在`.grad`属性中。这意味着每次`.backward()`被调用后，梯度会被累加（不是替换）。\n",
    "\n",
    "5. **阻止梯度跟踪**: 使用`.detach()`方法或`with torch.no_grad()`块来停止对计算图的追踪。\n",
    "\n",
    "### Autograd的应用\n",
    "\n",
    "- **训练神经网络**: 在神经网络的训练过程中，`autograd`被广泛用于自动计算损失函数相对于模型参数的梯度，这是梯度下降算法的核心。\n",
    "\n",
    "- **自定义梯度操作**: 可以自定义张量上的操作及其梯度，这对于复杂的网络结构和操作非常有用。\n",
    "\n",
    "- **动态图特性**: 由于PyTorch的计算图是动态的，因此可以在运行时修改图，这对于构建复杂的网络结构特别有用，如递归神经网络。\n",
    "\n",
    "### 示例\n",
    "\n",
    "下面是一个使用PyTorch `autograd`的简单示例：\n"
   ]
  },
  {
   "cell_type": "code",
   "execution_count": 105,
   "metadata": {},
   "outputs": [
    {
     "name": "stdout",
     "output_type": "stream",
     "text": [
      "tensor([0.6667, 0.6667, 0.6667])\n"
     ]
    }
   ],
   "source": [
    "import torch\n",
    "\n",
    "# 创建张量并设置requires_grad=True来追踪其运算\n",
    "x = torch.tensor([1.0, 2.0, 3.0], requires_grad=True)\n",
    "\n",
    "# 执行操作\n",
    "y = x * 2\n",
    "z = y.mean()\n",
    "\n",
    "# 反向传播，计算梯度\n",
    "z.backward()\n",
    "\n",
    "# 查看梯度\n",
    "print(x.grad)  # 输出张量[0.6667, 0.6667, 0.6667]"
   ]
  },
  {
   "cell_type": "markdown",
   "metadata": {},
   "source": [
    "在这个例子中，`x`是一个需要计算梯度的张量。通过在`x`上执行操作，创建了一个计算图。`z.backward()`调用触发了反向传播，PyTorch自动计算了`x`的梯度并\n",
    "\n",
    "存储在`x.grad`中。\n",
    "\n",
    "### 总结\n",
    "\n",
    "理解和使用`autograd`是深入学习PyTorch的关键。随着实践的增加，你会更加熟悉其工作原理和应用。如果你有任何疑问或需要更多具体的例子，请随时提问！"
   ]
  },
  {
   "cell_type": "markdown",
   "metadata": {},
   "source": [
    "## 更复杂的一个例子\n",
    "\n",
    "当然，让我们来看一个更复杂一些的例子，其中我们将使用PyTorch的`autograd`来执行一些更高级的操作，包括自定义梯度计算。在这个例子中，我们将创建一个简单的神经网络，并展示如何对其进行训练，包括自定义梯度的计算。\n",
    "\n",
    "### 示例：自定义梯度的神经网络\n",
    "\n",
    "假设我们有一个简单的神经网络，它有一个隐藏层。我们将手动实现前向传播和反向传播，包括自定义梯度计算。\n",
    "\n",
    "1. **定义网络结构**\n",
    "2. **前向传播**\n",
    "3. **自定义梯度计算**\n",
    "4. **更新权重**"
   ]
  },
  {
   "cell_type": "code",
   "execution_count": 106,
   "metadata": {},
   "outputs": [
    {
     "name": "stdout",
     "output_type": "stream",
     "text": [
      "Epoch 1, Loss: 4.926270484924316\n",
      "Epoch 2, Loss: 4.896235942840576\n",
      "Epoch 3, Loss: 4.866158485412598\n",
      "Epoch 4, Loss: 4.83604097366333\n",
      "Epoch 5, Loss: 4.805884838104248\n",
      "Epoch 6, Loss: 4.775689601898193\n",
      "Epoch 7, Loss: 4.745460033416748\n",
      "Epoch 8, Loss: 4.7151947021484375\n",
      "Epoch 9, Loss: 4.684895992279053\n",
      "Epoch 10, Loss: 4.654567718505859\n"
     ]
    }
   ],
   "source": [
    "import torch\n",
    "\n",
    "# 假设的输入、输出和网络参数\n",
    "input_size = 3\n",
    "hidden_size = 2\n",
    "output_size = 1\n",
    "batch_size = 1\n",
    "\n",
    "# 创建输入输出数据\n",
    "x = torch.randn(batch_size, input_size)\n",
    "y = torch.randn(batch_size, output_size)\n",
    "\n",
    "# 权重初始化\n",
    "w1 = torch.randn(input_size, hidden_size, requires_grad=True)\n",
    "w2 = torch.randn(hidden_size, output_size, requires_grad=True)\n",
    "\n",
    "# 学习率\n",
    "learning_rate = 0.001\n",
    "\n",
    "# 神经网络前向传播和反向传播\n",
    "for epoch in range(10):  # 训练10个epoch\n",
    "    # 前向传播\n",
    "    hidden = x.mm(w1)  # 矩阵乘法作为隐藏层\n",
    "    hidden_relu = hidden.clamp(min=0)  # ReLU激活函数\n",
    "    output = hidden_relu.mm(w2)\n",
    "\n",
    "    # 计算损失\n",
    "    loss = (output - y).pow(2).sum()\n",
    "    print(f\"Epoch {epoch + 1}, Loss: {loss.item()}\")\n",
    "\n",
    "    # 反向传播\n",
    "    loss.backward()\n",
    "\n",
    "    # 手动更新权重，需要使用torch.no_grad()来避免在更新权重时构建计算图\n",
    "    with torch.no_grad():\n",
    "        w1 -= learning_rate * w1.grad\n",
    "        w2 -= learning_rate * w2.grad\n",
    "\n",
    "        # 梯度清零\n",
    "        w1.grad.zero_()\n",
    "        w2.grad.zero_()"
   ]
  },
  {
   "cell_type": "markdown",
   "metadata": {},
   "source": [
    "在这个例子中，我们首先定义了输入输出数据和网络参数（权重）。接着，我们通过简单的矩阵乘法和ReLU激活函数实现了前向传播。计算损失后，我们调用`.backward()`来进行反向传播，自动计算梯度。最后，我们手动更新权重，并在每次迭代后清零梯度。\n",
    "\n",
    "这个例子演示了如何使用PyTorch的`autograd`来构建一个简单的神经网络，并通过手动方式更新权重。这是对`autograd`的一个稍微复杂的应用，展示了它在神经网络训练中的作用。如果你对这个例子有任何疑问，或者需要关于其他方面的示例，请随时告诉我！"
   ]
  },
  {
   "cell_type": "markdown",
   "metadata": {},
   "source": [
    "## Layers of a Neural Network\n",
    "\n",
    "当然，除了卷积层和池化层，神经网络中还有许多其他类型的层，它们在构建不同类型的网络结构时起着关键作用。以下是一些在PyTorch中常用的神经网络层定义函数：\n",
    "\n",
    "### 1. `nn.Linear`\n",
    "\n",
    "- **功能**：全连接（线性）层，用于创建一个线性函数（`y = Wx + b`），其中`W`是权重矩阵，`b`是偏置。\n",
    "- **关键参数**：\n",
    "  - `in_features`：输入的特征维数。\n",
    "  - `out_features`：输出的特征维数。\n",
    "  - `bias`：是否添加偏置。\n",
    "- **示例用法**："
   ]
  },
  {
   "cell_type": "markdown",
   "metadata": {},
   "source": [
    "### 2. `nn.BatchNorm1d` 和 `nn.BatchNorm2d`\n",
    "\n",
    "- **功能**：批标准化层，用于标准化输入的特征，有助于加速训练并减少对初始化的依赖。\n",
    "- **关键参数**：\n",
    "  - `num_features`：输入特征的数量。\n",
    "- **示例用法**："
   ]
  },
  {
   "cell_type": "code",
   "execution_count": 158,
   "metadata": {},
   "outputs": [
    {
     "data": {
      "text/plain": [
       "(BatchNorm1d(64, eps=1e-05, momentum=0.1, affine=True, track_running_stats=True),\n",
       " BatchNorm2d(16, eps=1e-05, momentum=0.1, affine=True, track_running_stats=True),\n",
       " BatchNorm3d(8, eps=1e-05, momentum=0.1, affine=True, track_running_stats=True))"
      ]
     },
     "execution_count": 158,
     "metadata": {},
     "output_type": "execute_result"
    }
   ],
   "source": [
    "bn1d = nn.BatchNorm1d(num_features=64)\n",
    "bn2d = nn.BatchNorm2d(num_features=16)\n",
    "bn3d = nn.BatchNorm3d(num_features=8)\n",
    "bn1d, bn2d, bn3d"
   ]
  },
  {
   "cell_type": "markdown",
   "metadata": {},
   "source": [
    "### 3. `nn.ReLU`, `nn.Sigmoid`, `nn.Tanh`, `nn.Softmax`\n",
    "\n",
    "- **功能**：激活函数层，提供非线性能力。\n",
    "- **使用方法**：通常在卷积层或全连接层后使用。\n",
    "- **示例用法**："
   ]
  },
  {
   "cell_type": "code",
   "execution_count": 156,
   "metadata": {},
   "outputs": [
    {
     "data": {
      "text/plain": [
       "(ReLU(), Sigmoid(), Tanh(), Softmax(dim=1))"
      ]
     },
     "execution_count": 156,
     "metadata": {},
     "output_type": "execute_result"
    }
   ],
   "source": [
    "relu = nn.ReLU()\n",
    "sigmoid = nn.Sigmoid()\n",
    "tanh = nn.Tanh()\n",
    "softmax = nn.Softmax(dim=1)\n",
    "\n",
    "relu, sigmoid, tanh, softmax"
   ]
  },
  {
   "cell_type": "code",
   "execution_count": 157,
   "metadata": {},
   "outputs": [
    {
     "data": {
      "text/plain": [
       "(tensor([0., 1., 0.]),\n",
       " tensor([0.2689, 0.7311, 0.5000]),\n",
       " tensor([-0.7616,  0.7616,  0.0000]),\n",
       " tensor([[0.0900, 0.6652, 0.2447],\n",
       "         [0.0900, 0.6652, 0.2447]]))"
      ]
     },
     "execution_count": 157,
     "metadata": {},
     "output_type": "execute_result"
    }
   ],
   "source": [
    "relu(torch.tensor([-1.0, 1.0, 0.0])), sigmoid(torch.tensor([-1.0, 1.0, 0.0])), tanh(torch.tensor([-1.0, 1.0, 0.0])), softmax(torch.tensor([[-1.0, 1.0, 0.0], [-1.0, 1.0, 0.0]]))"
   ]
  },
  {
   "cell_type": "markdown",
   "metadata": {},
   "source": [
    "### 4. `nn.Dropout`\n",
    "\n",
    "- **功能**：Dropout层，在训练过程中随机“丢弃”（即将参数设置为零）一部分神经元，有助于防止过拟合。\n",
    "- **关键参数**：\n",
    "  - `p`：丢弃概率。\n",
    "  - `inplace`：如果为True，则在原地丢弃。\n",
    "\n",
    "- **示例用法**："
   ]
  },
  {
   "cell_type": "code",
   "execution_count": 172,
   "metadata": {},
   "outputs": [
    {
     "data": {
      "text/plain": [
       "Dropout(p=0.5, inplace=False)"
      ]
     },
     "execution_count": 172,
     "metadata": {},
     "output_type": "execute_result"
    }
   ],
   "source": [
    "dropout = nn.Dropout(p=0.5, inplace=False)\n",
    "dropout"
   ]
  },
  {
   "cell_type": "code",
   "execution_count": 186,
   "metadata": {},
   "outputs": [
    {
     "data": {
      "text/plain": [
       "tensor([2., 4., 6.])"
      ]
     },
     "execution_count": 186,
     "metadata": {},
     "output_type": "execute_result"
    }
   ],
   "source": [
    "dropout(torch.tensor([1.0, 2.0, 3.0]))"
   ]
  },
  {
   "cell_type": "markdown",
   "metadata": {},
   "source": [
    "### 5. `nn.Embedding`\n",
    "\n",
    "- **功能**：嵌入层，用于将离散的单词或标签映射到一个连续的向量空间。\n",
    "- **关键参数**：\n",
    "  - `num_embeddings`：嵌入字典的大小。\n",
    "  - `embedding_dim`：每个嵌入向量的大小。\n",
    "- **示例用法**："
   ]
  },
  {
   "cell_type": "code",
   "execution_count": null,
   "metadata": {},
   "outputs": [],
   "source": [
    "embedding = nn.Embedding(num_embeddings=1000, embedding_dim=64)"
   ]
  },
  {
   "cell_type": "markdown",
   "metadata": {},
   "source": [
    "### 6. `nn.LSTM` 和 `nn.GRU`\n",
    "\n",
    "- **功能**：循环神经网络层，用于处理序列数据，其中`nn.LSTM`是长短期记忆网络层，`nn.GRU`是门控循环单元层。\n",
    "- **关键参数**：\n",
    "  - `input_size`：输入特征的维度。\n",
    "  - `hidden_size`：隐藏状态的维度。\n",
    "  - `num_layers`：循环层的数量。\n",
    "  - `batch_first`：如果为`True`，则输入输出的批大小为第一维。\n",
    "  - `bidirectional`：如果为`True`，则使用双向循环层。\n",
    "  - `dropout`：如果大于0，则在循环层之间应用丢弃。\n",
    "\n",
    "- **示例用法**："
   ]
  },
  {
   "cell_type": "code",
   "execution_count": 155,
   "metadata": {},
   "outputs": [
    {
     "data": {
      "text/plain": [
       "(LSTM(10, 20, num_layers=2, bidirectional=True), GRU(10, 20, num_layers=2))"
      ]
     },
     "execution_count": 155,
     "metadata": {},
     "output_type": "execute_result"
    }
   ],
   "source": [
    "lstm = nn.LSTM(input_size=10, hidden_size=20, num_layers=2, bidirectional=True)\n",
    "gru = nn.GRU(input_size=10, hidden_size=20, num_layers=2)\n",
    "lstm, gru"
   ]
  },
  {
   "cell_type": "markdown",
   "metadata": {},
   "source": [
    "这些层是构建现代神经网络的基本组件，可以根据具体的任务需求和网络结构设计进行灵活组合。通过这些层的组合和堆叠，可以构建出适用于各种复杂任务的神经网络模型。"
   ]
  },
  {
   "cell_type": "markdown",
   "metadata": {},
   "source": [
    "## Layers of a Convolutional Neural Network\n",
    "\n",
    "在PyTorch中，卷积层是构建卷积神经网络（CNN）的基础。以下是PyTorch中一些最常用的卷积层函数，它们都位于`torch.nn`模块中：\n",
    "\n",
    "### 1. `nn.Conv2d`\n",
    "\n",
    "- **功能**：二维卷积层，主要用于处理图像数据。\n",
    "- **关键参数**：\n",
    "  - `in_channels`：输入图像的通道数。\n",
    "  - `out_channels`：卷积产生的通道数。\n",
    "  - `kernel_size`：卷积核的大小。\n",
    "  - `stride`：卷积步长。\n",
    "  - `padding`：在图像边缘添加零的层数。\n",
    "  - `dilation`：卷积核元素之间的间距。\n",
    "  - `groups`：连接输入和输出通道的组数。\n",
    "  - `bias`：是否添加偏置。\n",
    "- **示例用法**："
   ]
  },
  {
   "cell_type": "code",
   "execution_count": 150,
   "metadata": {},
   "outputs": [
    {
     "data": {
      "text/plain": [
       "Conv2d(3, 32, kernel_size=(3, 3), stride=(1, 1), padding=(1, 1))"
      ]
     },
     "execution_count": 150,
     "metadata": {},
     "output_type": "execute_result"
    }
   ],
   "source": [
    "conv = nn.Conv2d(in_channels=3, out_channels=32, kernel_size=3, stride=1, padding=1)\n",
    "conv"
   ]
  },
  {
   "cell_type": "markdown",
   "metadata": {},
   "source": [
    "### 2. `nn.ConvTranspose2d`\n",
    "\n",
    "- **功能**：二维转置卷积层，通常用于上采样或增加图像分辨率。\n",
    "- **关键参数**：与`nn.Conv2d`类似，但是在应用中用于反方向操作。\n",
    "- **示例用法**："
   ]
  },
  {
   "cell_type": "code",
   "execution_count": 151,
   "metadata": {},
   "outputs": [
    {
     "data": {
      "text/plain": [
       "ConvTranspose2d(32, 3, kernel_size=(3, 3), stride=(2, 2), padding=(1, 1), output_padding=(1, 1))"
      ]
     },
     "execution_count": 151,
     "metadata": {},
     "output_type": "execute_result"
    }
   ],
   "source": [
    "deconv = nn.ConvTranspose2d(in_channels=32, out_channels=3, kernel_size=3, stride=2, padding=1, output_padding=1)\n",
    "deconv"
   ]
  },
  {
   "cell_type": "markdown",
   "metadata": {},
   "source": [
    "### 3. `nn.MaxPool2d`\n",
    "\n",
    "- **功能**：二维最大池化层，用于降低特征图的空间维度。\n",
    "- **关键参数**：\n",
    "  - `kernel_size`：池化窗口的大小。\n",
    "  - `stride`：池化操作的步长。\n",
    "  - `padding`：边缘填充。\n",
    "- **示例用法**："
   ]
  },
  {
   "cell_type": "code",
   "execution_count": 152,
   "metadata": {},
   "outputs": [
    {
     "data": {
      "text/plain": [
       "MaxPool2d(kernel_size=2, stride=2, padding=0, dilation=1, ceil_mode=False)"
      ]
     },
     "execution_count": 152,
     "metadata": {},
     "output_type": "execute_result"
    }
   ],
   "source": [
    "maxpool = nn.MaxPool2d(kernel_size=2, stride=2)\n",
    "maxpool"
   ]
  },
  {
   "cell_type": "markdown",
   "metadata": {},
   "source": [
    "### 4. `nn.AvgPool2d`\n",
    "\n",
    "- **功能**：二维平均池化层，与最大池化类似，但是计算窗口内的平均值。\n",
    "- **关键参数**：与`nn.MaxPool2d`相似。\n",
    "- **示例用法**："
   ]
  },
  {
   "cell_type": "code",
   "execution_count": 153,
   "metadata": {},
   "outputs": [
    {
     "data": {
      "text/plain": [
       "AvgPool2d(kernel_size=2, stride=2, padding=0)"
      ]
     },
     "execution_count": 153,
     "metadata": {},
     "output_type": "execute_result"
    }
   ],
   "source": [
    "avgpool = nn.AvgPool2d(kernel_size=2, stride=2)\n",
    "avgpool"
   ]
  },
  {
   "cell_type": "markdown",
   "metadata": {},
   "source": [
    "### 5. `nn.AdaptiveMaxPool2d` 和 `nn.AdaptiveAvgPool2d`\n",
    "\n",
    "- **功能**：自适应池化层，自动计算池化窗口的大小，以输出特定尺寸的特征图。\n",
    "- **关键参数**：\n",
    "  - `output_size`：池化后输出的大小。\n",
    "- **示例用法**："
   ]
  },
  {
   "cell_type": "code",
   "execution_count": 154,
   "metadata": {},
   "outputs": [
    {
     "data": {
      "text/plain": [
       "(AdaptiveMaxPool2d(output_size=(1, 1)), AdaptiveAvgPool2d(output_size=(1, 1)))"
      ]
     },
     "execution_count": 154,
     "metadata": {},
     "output_type": "execute_result"
    }
   ],
   "source": [
    "adaptive_maxpool = nn.AdaptiveMaxPool2d(output_size=(1, 1))\n",
    "adaptive_avgpool = nn.AdaptiveAvgPool2d(output_size=(1, 1))\n",
    "adaptive_maxpool, adaptive_avgpool"
   ]
  },
  {
   "cell_type": "markdown",
   "metadata": {},
   "source": [
    "## Loss Functions\n",
    "\n",
    "PyTorch 提供了许多内置的损失函数，用于处理各种不同类型的任务。以下是一些最常用的损失函数，包括它们的数学表达式、PyTorch调用方式及适用场景：\n",
    "\n",
    "### 1. 均方误差损失（Mean Squared Error Loss）\n",
    "\n",
    "- **公式**：$ \\text{MSE}(y, \\hat{y}) = \\frac{1}{n} \\sum_{i=1}^{n} (y_i - \\hat{y}_i)^2 $\n",
    "- **用法**：`nn.MSELoss()`\n",
    "- **适用场景**：回归任务，其中`y`是真实值，`\\hat{y}`是预测值。\n",
    "- **示例**：\n",
    "  ```python\n",
    "  mse_loss = nn.MSELoss()\n",
    "  loss = mse_loss(predicted, target)\n",
    "  ```\n",
    "\n",
    "### 2. 交叉熵损失（Cross Entropy Loss）\n",
    "\n",
    "- **公式**：$ \\text{CrossEntropy}(y, \\hat{y}) = -\\sum_{i=1}^{C} y_{o,i} \\log(\\hat{y}_{o,i}) $\n",
    "- **用法**：`nn.CrossEntropyLoss()`\n",
    "- **适用场景**：多分类任务。其中`C`是类别数，`y`是真实标签的one-hot表示，`\\hat{y}`是模型输出的概率分布。\n",
    "- **注意**：在PyTorch中，`nn.CrossEntropyLoss`自带Softmax，因此模型的最后一层应该是logits（未经过Softmax的原始输出）。\n",
    "- **示例**：\n",
    "  ```python\n",
    "  ce_loss = nn.CrossEntropyLoss()\n",
    "  loss = ce_loss(predicted, target)\n",
    "  ```\n",
    "\n",
    "### 3. 二元交叉熵损失（Binary Cross Entropy Loss）\n",
    "\n",
    "- **公式**：$ \\text{BCE}(y, \\hat{y}) = -y \\log(\\hat{y}) - (1 - y) \\log(1 - \\hat{y}) $\n",
    "- **用法**：`nn.BCELoss()`\n",
    "- **适用场景**：二分类任务。\n",
    "- **注意**：要求模型输出在0到1之间，通常通过Sigmoid函数实现。\n",
    "- **示例**：\n",
    "  ```python\n",
    "  bce_loss = nn.BCELoss()\n",
    "  loss = bce_loss(predicted, target)\n",
    "  ```\n",
    "\n",
    "### 4. 正则化线性损失（Hinge Loss）\n",
    "\n",
    "- **公式**：$ \\text{Hinge}(y, \\hat{y}) = \\max(0, 1 - y \\cdot \\hat{y}) $\n",
    "- **用法**：`nn.HingeEmbeddingLoss()`\n",
    "- **适用场景**：用于“学习到排名”（Learning to Rank）任务，以及某些类型的二分类问题。\n",
    "- **示例**：\n",
    "  ```python\n",
    "  hinge_loss = nn.HingeEmbeddingLoss()\n",
    "  loss = hinge_loss(predicted, target)\n",
    "  ```\n",
    "\n",
    "### 5. 负对数似然损失（Negative Log Likelihood Loss）\n",
    "\n",
    "- **公式**：$ \\text{NLL}(y, \\hat{y}) = -\\log(\\hat{y}_y) $\n",
    "- **用法**：`nn.NLLLoss()`\n",
    "- **适用场景**：多分类任务，与`nn.LogSoftmax`结合使用。\n",
    "- **注意**：`nn.NLLLoss`期望输入为对数概率，通常与`nn.LogSoftmax`一起使用。\n",
    "- **示例**：\n",
    "  ```python\n",
    "  nll_loss = nn.NLLLoss()\n",
    "  loss = nll_loss(F.log_softmax(predicted, dim=1), target)\n",
    "  ```\n",
    "\n",
    "### 6. L1损失（L1 Loss）\n",
    "\n",
    "- **公式**：$ \\text{L1}(y, \\hat{y}) = \\sum_{i=1}^{n} |y_i - \\hat{y}_i| $\n",
    "- **用法**：`nn.L1Loss()`\n",
    "- **适用场景**：回归任务，对异常值更加鲁棒。\n",
    "- **示例**：\n",
    "  ```python\n",
    "  l1_loss = nn.L1Loss()\n",
    "  loss = l1_loss(predicted, target)\n",
    "  ```\n",
    "\n",
    "### 7. 余弦相似度损失（Cosine Similarity Loss）\n",
    "\n",
    "- **公式**：$ \\text{Cosine}(y, \\hat{y}) = 1 - \\frac{y \\cdot \\hat{y}}{\\|y\\| \\| \\hat{y}\\|} $\n",
    "- **用法**：`nn.CosineEmbeddingLoss()`\n",
    "- **适用场景**：衡量两个向量之间的相似度，用于推荐系统、文本相似度等。\n",
    "- **示例**：\n",
    "  ```python\n",
    "  cosine_loss = nn.CosineEmbeddingLoss()\n",
    "  loss = cosine_loss(predicted1, predicted2, target)\n",
    "  ```\n",
    "\n",
    "### 注意事项\n",
    "\n",
    "在选择损失函数时，应考虑任务类型（回归、二分类、多分类等）和特定需求（例如对异常值的鲁棒性、输出的概率分布等）。正确选择损失函数对于训练有效的模型至关重要。"
   ]
  },
  {
   "cell_type": "markdown",
   "metadata": {},
   "source": [
    "## Optimizers\n",
    "\n",
    "在PyTorch中，优化器用于更新网络的权重以最小化损失函数。不同的优化器有不同的数学原理和应用场景。以下是一些常用的优化器，它们的数学原理，以及如何在PyTorch中使用它们：\n",
    "\n",
    "### 1. 随机梯度下降（SGD）\n",
    "\n",
    "- **原理**：SGD 是最基础的优化器之一。它通过计算损失函数相对于模型参数的梯度来更新参数，即 $ \\theta = \\theta - \\eta \\cdot \\nabla_\\theta J(\\theta) $，其中 $ \\eta $ 是学习率。\n",
    "- **适用场景**：适用于大多数深度学习任务，特别是当数据集较大时。\n",
    "- **代码示例**："
   ]
  },
  {
   "cell_type": "code",
   "execution_count": 191,
   "metadata": {},
   "outputs": [
    {
     "data": {
      "text/plain": [
       "SGD (\n",
       "Parameter Group 0\n",
       "    dampening: 0\n",
       "    differentiable: False\n",
       "    foreach: None\n",
       "    lr: 0.01\n",
       "    maximize: False\n",
       "    momentum: 0\n",
       "    nesterov: False\n",
       "    weight_decay: 0\n",
       ")"
      ]
     },
     "execution_count": 191,
     "metadata": {},
     "output_type": "execute_result"
    }
   ],
   "source": [
    "optimizer = torch.optim.SGD(model.parameters(), lr=0.01)\n",
    "optimizer"
   ]
  },
  {
   "cell_type": "markdown",
   "metadata": {},
   "source": [
    "### 2. 带动量的SGD\n",
    "\n",
    "- **原理**：在SGD的基础上增加了动量项，用于加速SGD并使其在相关方向上更稳定，即 $ v = \\gamma v + \\eta \\nabla_\\theta J(\\theta) $，然后 $ \\theta = \\theta - v $，其中 $ \\gamma $ 是动量系数。\n",
    "- **适用场景**：在深度网络中常用，特别是在高曲率、小而平坦的最小化区域和随机的梯度方向上表现较好。\n",
    "- **代码示例**："
   ]
  },
  {
   "cell_type": "code",
   "execution_count": 192,
   "metadata": {},
   "outputs": [
    {
     "data": {
      "text/plain": [
       "SGD (\n",
       "Parameter Group 0\n",
       "    dampening: 0\n",
       "    differentiable: False\n",
       "    foreach: None\n",
       "    lr: 0.01\n",
       "    maximize: False\n",
       "    momentum: 0.9\n",
       "    nesterov: False\n",
       "    weight_decay: 0\n",
       ")"
      ]
     },
     "execution_count": 192,
     "metadata": {},
     "output_type": "execute_result"
    }
   ],
   "source": [
    "optimizer = torch.optim.SGD(model.parameters(), lr=0.01, momentum=0.9)\n",
    "optimizer"
   ]
  },
  {
   "cell_type": "markdown",
   "metadata": {},
   "source": [
    "### 3. RMSprop\n",
    "\n",
    "- **原理**：RMSprop 是一种自适应学习率方法。它通过除以最近梯度的均方根来调整每个参数的学习率，即 $ \\theta = \\theta - \\frac{\\eta}{\\sqrt{E[g^2] + \\epsilon}} \\cdot g $，其中 $ E[g^2] $ 是梯度平方的滑动平均，$ \\epsilon $ 是为了数值稳定性而加的小量。\n",
    "- **适用场景**：在处理非平稳目标和非线性目标时很有效，特别是在RNN训练中。\n",
    "- **代码示例**："
   ]
  },
  {
   "cell_type": "code",
   "execution_count": 190,
   "metadata": {},
   "outputs": [
    {
     "data": {
      "text/plain": [
       "RMSprop (\n",
       "Parameter Group 0\n",
       "    alpha: 0.99\n",
       "    centered: False\n",
       "    differentiable: False\n",
       "    eps: 1e-08\n",
       "    foreach: None\n",
       "    lr: 0.01\n",
       "    maximize: False\n",
       "    momentum: 0\n",
       "    weight_decay: 0\n",
       ")"
      ]
     },
     "execution_count": 190,
     "metadata": {},
     "output_type": "execute_result"
    }
   ],
   "source": [
    "optimizer = torch.optim.RMSprop(model.parameters(), lr=0.01)\n",
    "optimizer"
   ]
  },
  {
   "cell_type": "markdown",
   "metadata": {},
   "source": [
    "### 4. Adam（Adaptive Moment Estimation）\n",
    "\n",
    "- **原理**：Adam 结合了Momentum和RMSprop的优点。它保持了梯度的一阶矩（均值）和二阶矩（未中心化的方差），即 $ m = \\beta_1 m + (1 - \\beta_1) g $ 和 $ v = \\beta_2 v + (1 - \\beta_2) g^2 $，然后进行参数更新 $ \\theta = \\theta - \\frac{\\eta}{\\sqrt{\\hat{v}} + \\epsilon} \\cdot \\hat{m} $。\n",
    "- **适用场景**：适用于大多数深度学习应用，尤其是当数据或参数非常多时。\n",
    "- **代码示例**："
   ]
  },
  {
   "cell_type": "code",
   "execution_count": 189,
   "metadata": {},
   "outputs": [
    {
     "data": {
      "text/plain": [
       "Adam (\n",
       "Parameter Group 0\n",
       "    amsgrad: False\n",
       "    betas: (0.9, 0.999)\n",
       "    capturable: False\n",
       "    differentiable: False\n",
       "    eps: 1e-08\n",
       "    foreach: None\n",
       "    fused: False\n",
       "    lr: 0.001\n",
       "    maximize: False\n",
       "    weight_decay: 0\n",
       ")"
      ]
     },
     "execution_count": 189,
     "metadata": {},
     "output_type": "execute_result"
    }
   ],
   "source": [
    "optimizer = torch.optim.Adam(model.parameters(), lr=0.001)\n",
    "optimizer"
   ]
  },
  {
   "cell_type": "markdown",
   "metadata": {},
   "source": [
    "### 5. AdamW\n",
    "\n",
    "- **原理**：AdamW 是 Adam 优化器的一个变体，它对权重衰减项进行了更正确的处理，将权重衰减与梯度更新分开。\n",
    "- **适用场景**：适用于需要使用L2正则化的场景，尤其是在一些需要更细粒度权重更新控制的任务中。\n",
    "- **代码示例**："
   ]
  },
  {
   "cell_type": "code",
   "execution_count": 188,
   "metadata": {},
   "outputs": [
    {
     "data": {
      "text/plain": [
       "AdamW (\n",
       "Parameter Group 0\n",
       "    amsgrad: False\n",
       "    betas: (0.9, 0.999)\n",
       "    capturable: False\n",
       "    eps: 1e-08\n",
       "    foreach: None\n",
       "    lr: 0.001\n",
       "    maximize: False\n",
       "    weight_decay: 0.01\n",
       ")"
      ]
     },
     "execution_count": 188,
     "metadata": {},
     "output_type": "execute_result"
    }
   ],
   "source": [
    "optimizer = torch.optim.AdamW(model.parameters(), lr=0.001)\n",
    "optimizer"
   ]
  },
  {
   "cell_type": "markdown",
   "metadata": {},
   "source": [
    "### 使用优化器的一般步骤\n",
    "\n",
    "无论选择哪种优化器，其基本使用方法\n",
    "\n",
    "都是相似的：\n",
    "\n",
    "1. 初始化优化器，并指定要更新的参数（通常是 `model.parameters()`）和学习率。\n",
    "2. 在训练循环中，首先清除旧的梯度（`optimizer.zero_grad()`）。\n",
    "3. 执行前向传播和计算损失。\n",
    "4. 执行反向传播（`loss.backward()`）。\n",
    "5. 调用优化器来更新权重（`optimizer.step()`）。\n",
    "\n",
    "选择特定的优化器取决于具体的任务、模型的类型以及训练数据的特点。不同的优化器可能会对模型的训练速度和最终性能产生显著影响。因此，选择正确的优化器对于训练有效的模型至关重要。"
   ]
  },
  {
   "cell_type": "markdown",
   "metadata": {},
   "source": [
    "## `torch.nn.functional` Module\n",
    "\n",
    "PyTorch中的`torch.nn.functional`模块提供了一系列用于执行低级、状态无关的函数。这些函数通常在定义前向传播时使用，特别是当你不需要维护权重时。以下是一些`nn.functional`中常用函数的介绍：\n",
    "\n",
    "### 1. `F.conv2d`\n",
    "\n",
    "- **功能**：执行二维卷积操作。\n",
    "- **关键参数**：\n",
    "  - `input`：输入Tensor。\n",
    "  - `weight`：卷积核的权重。\n",
    "  - `bias`：可选的偏置。\n",
    "  - `stride`、`padding`、`dilation`、`groups`：与`nn.Conv2d`相同。\n",
    "- **示例用法**：\n",
    "  ```python\n",
    "  output = F.conv2d(input, weight, bias=None, stride=1, padding=0, dilation=1, groups=1)\n",
    "  ```\n",
    "\n",
    "### 2. `F.relu`\n",
    "\n",
    "- **功能**：应用ReLU激活函数。\n",
    "- **关键参数**：\n",
    "  - `input`：输入Tensor。\n",
    "- **示例用法**：\n",
    "  ```python\n",
    "  output = F.relu(input)\n",
    "  ```\n",
    "\n",
    "### 3. `F.max_pool2d`\n",
    "\n",
    "- **功能**：执行二维最大池化操作。\n",
    "- **关键参数**：\n",
    "  - `input`：输入Tensor。\n",
    "  - `kernel_size`：池化窗口的大小。\n",
    "  - `stride`、`padding`、`dilation`、`return_indices`、`ceil_mode`：与`nn.MaxPool2d`相同。\n",
    "- **示例用法**：\n",
    "  ```python\n",
    "  output = F.max_pool2d(input, kernel_size=2, stride=2)\n",
    "  ```\n",
    "\n",
    "### 4. `F.avg_pool2d`\n",
    "\n",
    "- **功能**：执行二维平均池化操作。\n",
    "- **关键参数**：与`F.max_pool2d`类似。\n",
    "- **示例用法**：\n",
    "  ```python\n",
    "  output = F.avg_pool2d(input, kernel_size=2, stride=2)\n",
    "  ```\n",
    "\n",
    "### 5. `F.dropout`\n",
    "\n",
    "- **功能**：应用Dropout正则化。\n",
    "- **关键参数**：\n",
    "  - `input`：输入Tensor。\n",
    "  - `p`：丢弃概率。\n",
    "  - `training`：是否处于训练模式。\n",
    "  - `inplace`：是否进行原地操作。\n",
    "- **示例用法**：\n",
    "  ```python\n",
    "  output = F.dropout(input, p=0.5, training=model.training)\n",
    "  ```\n",
    "\n",
    "### 6. `F.linear`\n",
    "\n",
    "- **功能**：应用线性（全连接）变换。\n",
    "- **关键参数**：\n",
    "  - `input`：输入Tensor。\n",
    "  - `weight`：权重矩阵。\n",
    "  - `bias`：偏置。\n",
    "- **示例用法**：\n",
    "  ```python\n",
    "  output = F.linear(input, weight, bias=None)\n",
    "  ```\n",
    "\n",
    "### 7. `F.softmax`\n",
    "\n",
    "- **功能**：应用Softmax函数。\n",
    "- **关键参数**：\n",
    "  - `input`：输入Tensor。\n",
    "  - `dim`：Softmax应用的维度。\n",
    "- **示例用法**：\n",
    "  ```python\n",
    "  output = F.softmax(input, dim=1)\n",
    "  ```\n",
    "\n",
    "### 8. `F.cross_entropy`\n",
    "\n",
    "- **功能**：计算交叉熵损失。\n",
    "- **关键参数**：\n",
    "  - `input`：包含每个类别分数的Tensor。\n",
    "  - `target`：包含每个样本类别索引的Tensor。\n",
    "  - `weight`、`size_average`、`ignore_index`、`reduce`、`reduction`：与`nn.CrossEntropyLoss`相同。\n",
    "- **示例用法**：\n",
    "  ```python\n",
    "  loss = F.cross_entropy(input, target)\n",
    "  ```\n",
    "\n",
    "这些函数提供了构建复杂网络结构时所需的灵活性，允许直接在Tensor上进行操作，而无需定义和管理权重。在定义自定义的网络或层时，这些函数非常有用。"
   ]
  },
  {
   "cell_type": "markdown",
   "metadata": {},
   "source": [
    "## `F` vs `nn`\n",
    "\n",
    "确实，`torch.nn.functional`（通常简称为`F`）和`torch.nn`模块中的很多功能看起来非常相似，这经常会让人困惑。理解它们之间的区别以及何时使用哪一个是很重要的。\n",
    "\n",
    "### `torch.nn.functional`\n",
    "\n",
    "- **状态无关**：`torch.nn.functional`中的函数是状态无关的。这意味着它们不包含可训练的参数，比如权重和偏置。这些函数直接作用于输入的数据。\n",
    "- **灵活性**：由于`torch.nn.functional`仅仅是一些执行特定操作的函数，因此它们提供了更高的灵活性。你可以直接在输入数据上应用这些函数，而不需要先定义一个对象。\n",
    "- **用法**：当你需要对数据进行操作，但这些操作不涉及可训练参数时，`torch.nn.functional`是个好选择。例如，当使用自定义权重时，或者在某些操作（如激活函数、dropout）中你想要更精细的控制时。\n",
    "\n",
    "### `torch.nn`\n",
    "\n",
    "- **状态有关**：在`torch.nn`模块中，层和操作通常是以类的形式实现的。这些类在内部管理着它们自己的参数（权重和偏置），这些参数是可训练的，并且会在训练过程中更新。\n",
    "- **易用性和封装性**：这些类提供了易用的API，方便构建和管理复杂的网络。当你定义一个模型时，这些类可以作为组件被重复使用，同时它们自动地处理参数。\n",
    "- **用法**：当操作涉及可训练参数时，应该使用`torch.nn`模块。例如，在构建一个标准的网络层（如卷积层、全连接层）时，使用`torch.nn`模块可以自动处理参数的初始化和更新。\n",
    "\n",
    "### 选择`torch.nn.functional`还是`torch.nn`\n",
    "\n",
    "- 如果操作涉及可训练的权重或者你想要PyTorch自动管理参数（例如通过`model.parameters()`收集模型的所有参数），则使用`torch.nn`模块。\n",
    "- 如果操作是纯粹的、状态无关的，或者你需要对操作有更细粒度的控制（例如自定义权重），或者你正在做一次性的操作（不需要权重更新和梯度计算），则使用`torch.nn.functional`。\n",
    "\n",
    "在实践中，很多开发者会根据具体的需求和个人喜好来选择使用`torch.nn`或`torch.nn.functional`。有时，两者甚至会在同一项目中混合使用。重要的是要清楚每种方法的优势和限制，以便做出最佳的决策。\n",
    "\n"
   ]
  },
  {
   "cell_type": "markdown",
   "metadata": {},
   "source": [
    "## `nn.Module` Interface\n",
    "\n",
    "`nn.Module` 是 PyTorch 中最基本的类，用于构建所有神经网络。理解 `nn.Module` 的核心接口对于有效地使用 PyTorch 非常关键。下面是一些 `nn.Module` 中最常用的接口及其原理和使用方法：\n",
    "\n",
    "### 1. `__init__(self, ...)`\n",
    "\n",
    "- **原理**：这是 Python 类的构造函数，用于初始化新创建的对象。在 `nn.Module` 的子类中，它通常用于初始化网络层和其他必要的组件。\n",
    "- **使用方法**：在定义自己的网络类时，首先调用 `super().__init__()` 初始化 `nn.Module`，然后添加网络层如 `nn.Conv2d`、`nn.Linear` 等。\n",
    "\n",
    "### 2. `forward(self, x)`\n",
    "\n",
    "- **原理**：这是 `nn.Module` 中定义模型如何处理输入数据的方法。每当你调用网络实例时，实际上是调用了这个 `forward` 方法。\n",
    "- **使用方法**：在定义自己的网络类时，重写 `forward` 方法以定义模型的前向传播。例如，可以通过堆叠不同的层和激活函数来定义数据的流动。\n",
    "\n",
    "### 3. `to(self, device)`\n",
    "\n",
    "- **原理**：将模型的所有参数和缓冲区移动到给定的设备（例如，从 CPU 移动到 GPU）。\n",
    "- **使用方法**：在开始训练前，使用 `model.to(device)` 将模型转移到合适的设备上。\n",
    "\n",
    "### 4. `state_dict(self)`\n",
    "\n",
    "- **原理**：返回包含模型的所有参数的 Python 字典。\n",
    "- **使用方法**：通常用于保存和加载模型。例如，`torch.save(model.state_dict(), PATH)` 用于保存模型。\n",
    "\n",
    "### 5. `load_state_dict(self, state_dict, strict=True)`\n",
    "\n",
    "- **原理**：用 Python 字典 `state_dict` 中的值更新模型的参数。\n",
    "- **使用方法**：用于加载预训练模型或恢复训练。例如，`model.load_state_dict(torch.load(PATH))` 用于加载模型。\n",
    "\n",
    "### 6. `train(self, mode=True)`\n",
    "\n",
    "- **原理**：将模型设置为训练模式。某些层，如 `Dropout` 和 `BatchNorm`，在训练和评估模式下的行为是不同的。\n",
    "- **使用方法**：在训练前调用 `model.train()`。\n",
    "\n",
    "### 7. `eval(self)`\n",
    "\n",
    "- **原理**：将模型设置为评估模式。\n",
    "- **使用方法**：在进行模型评估或测试前调用 `model.eval()`。\n",
    "\n",
    "### 8. `parameters(self)`\n",
    "\n",
    "- **原理**：返回一个迭代器，包含模型中所有的参数。\n",
    "- **使用方法**：常用于将模型参数传递给优化器，如 `optimizer = torch.optim.Adam(model.parameters(), lr=0.001)`。\n",
    "\n",
    "### 结论\n",
    "\n",
    "通过理解这些 `nn.Module` 的核心接口，你可以更有效地构建和训练神经网络。PyTorch 提供了强大的灵活性，允许你通过组合不同的层和操作来定制复杂的网络结构。"
   ]
  },
  {
   "cell_type": "markdown",
   "metadata": {},
   "source": [
    "## Simple Neural Network\n",
    "\n",
    "很好！既然你已经对PyTorch中的Tensor和Autograd有了基本的了解，我们可以开始构建一个简单的神经网络。这里，我将为你展示一个基本的全连接神经网络（也称为多层感知机），并详细介绍其原理和构建步骤。\n",
    "\n",
    "### 神经网络的基本组成\n",
    "\n",
    "一个基本的全连接神经网络通常包含以下几个部分：\n",
    "\n",
    "1. **输入层**: 接收原始数据输入。\n",
    "2. **隐藏层**: 一层或多层非线性处理单元，用于提取特征。\n",
    "3. **输出层**: 产生最终的预测结果。\n",
    "4. **激活函数**: 例如ReLU或Sigmoid，用于引入非线性，使得网络可以学习复杂的模式。\n",
    "5. **损失函数**: 用于计算预测值和真实值之间的差异。\n",
    "6. **优化器**: 如SGD或Adam，用于更新网络权重以最小化损失函数。\n",
    "\n",
    "### 构建一个简单的神经网络\n",
    "\n",
    "假设我们要构建一个用于二分类任务的简单神经网络，网络结构如下：\n",
    "\n",
    "1. 输入层：2个神经元（假设每个输入样本有2个特征）\n",
    "2. 隐藏层：3个神经元\n",
    "3. 输出层：1个神经元\n",
    "4. 激活函数：ReLU用于隐藏层，Sigmoid用于输出层\n",
    "\n",
    "#### 网络架构示例"
   ]
  },
  {
   "cell_type": "code",
   "execution_count": 107,
   "metadata": {},
   "outputs": [
    {
     "name": "stdout",
     "output_type": "stream",
     "text": [
      "SimpleNet(\n",
      "  (fc1): Linear(in_features=2, out_features=3, bias=True)\n",
      "  (fc2): Linear(in_features=3, out_features=1, bias=True)\n",
      ")\n"
     ]
    }
   ],
   "source": [
    "import torch\n",
    "import torch.nn as nn\n",
    "import torch.nn.functional as F\n",
    "\n",
    "class SimpleNet(nn.Module):\n",
    "    def __init__(self):\n",
    "        super(SimpleNet, self).__init__()\n",
    "        self.fc1 = nn.Linear(2, 3)  # 输入层到隐藏层\n",
    "        self.fc2 = nn.Linear(3, 1)  # 隐藏层到输出层\n",
    "\n",
    "    def forward(self, x):\n",
    "        x = F.relu(self.fc1(x))  # ReLU激活函数\n",
    "        x = torch.sigmoid(self.fc2(x))  # Sigmoid激活函数\n",
    "        return x\n",
    "\n",
    "# 实例化网络\n",
    "net = SimpleNet()\n",
    "print(net)"
   ]
  },
  {
   "cell_type": "markdown",
   "metadata": {},
   "source": [
    "### 网络的工作原理\n",
    "\n",
    "- **前向传播**:\n",
    "  1. 输入数据通过第一层（`fc1`），这里进行的是加权求和。\n",
    "  2. 加权求和的结果通过ReLU激活函数。\n",
    "  3. 经过ReLU处理的数据传递到第二层（`fc2`）。\n",
    "  4. 第二层的输出通过Sigmoid激活函数，得到最终预测。\n",
    "\n",
    "- **反向传播**:\n",
    "  1. 计算预测值和真实值之间的损失（例如，使用二元交叉熵）。\n",
    "  2. 通过调用`.backward()`自动计算所有权重的梯度。\n",
    "  3. 使用优化器（例如，SGD或Adam）根据梯度更新权重。\n",
    "\n",
    "### 神经网络的训练过程\n",
    "\n",
    "训练神经网络通常包括以下步骤：\n",
    "\n",
    "1. **前向传播**: 计算预测值。\n",
    "2. **计算损失**: 使用损失函数计算预测值与真实值之间的差距。\n",
    "3. **反向传播**: 通过`.backward()`自动计算梯度。\n",
    "4. **更新权重**: 使用优化器根据计算的梯度更新网络的权重。\n",
    "5. 重复上述步骤，直到达到一定的迭代次数或损失足够小。\n",
    "\n",
    "这个示例展示了一个非常基础的神经网络。实际应用中，根据任务的复杂性，神经网络的结构可能会更复杂，包含更多的层和不同类型的层（如卷积层、循环层等）。"
   ]
  },
  {
   "cell_type": "markdown",
   "metadata": {},
   "source": [
    "要完善这个神经网络，并理解如何实现反向传播（`backward`），我们需要添加一些额外的步骤，包括定义一个损失函数、选择一个优化器，以及编写训练循环。在PyTorch中，反向传播是自动进行的，但了解它的工作原理对于深入理解神经网络是有帮助的。\n",
    "\n",
    "### 完善神经网络\n",
    "\n",
    "首先，我们已经定义了网络结构。接下来，我们将：\n",
    "\n",
    "1. 定义一个损失函数。\n",
    "2. 选择一个优化器。\n",
    "3. 创建一个训练循环，包括前向传播、计算损失、反向传播和权重更新。\n",
    "\n",
    "### 示例代码"
   ]
  },
  {
   "cell_type": "code",
   "execution_count": 108,
   "metadata": {},
   "outputs": [
    {
     "name": "stdout",
     "output_type": "stream",
     "text": [
      "Epoch [10/100], Loss: 5.0505\n",
      "Epoch [20/100], Loss: 4.9810\n",
      "Epoch [30/100], Loss: 4.9133\n",
      "Epoch [40/100], Loss: 4.8471\n",
      "Epoch [50/100], Loss: 4.7847\n",
      "Epoch [60/100], Loss: 4.7479\n",
      "Epoch [70/100], Loss: 4.7118\n",
      "Epoch [80/100], Loss: 4.6764\n",
      "Epoch [90/100], Loss: 4.6420\n",
      "Epoch [100/100], Loss: 4.6085\n"
     ]
    }
   ],
   "source": [
    "import torch.optim as optim\n",
    "\n",
    "# 继续使用之前定义的SimpleNet类\n",
    "\n",
    "# 创建随机输入和输出数据\n",
    "# 假设我们有4个样本\n",
    "X = torch.randn(4, 2)  # 4个样本，每个样本2个特征\n",
    "Y = torch.randn(4, 1)  # 每个样本对应1个输出\n",
    "\n",
    "# 实例化模型\n",
    "model = SimpleNet()\n",
    "\n",
    "# 定义损失函数（例如，均方误差）\n",
    "criterion = nn.MSELoss()\n",
    "\n",
    "# 定义优化器（例如，SGD）\n",
    "optimizer = optim.SGD(model.parameters(), lr=0.01)\n",
    "\n",
    "# 训练循环\n",
    "for epoch in range(100):  # 进行100个训练周期\n",
    "    # 前向传播\n",
    "    outputs = model(X)\n",
    "\n",
    "    # 计算损失\n",
    "    loss = criterion(outputs, Y)\n",
    "\n",
    "    # 反向传播和优化\n",
    "    optimizer.zero_grad()  # 清除旧的梯度\n",
    "    loss.backward()        # 反向传播，计算梯度\n",
    "    optimizer.step()       # 更新权重\n",
    "\n",
    "    # 打印统计信息\n",
    "    if (epoch+1) % 10 == 0:\n",
    "        print(f'Epoch [{epoch+1}/100], Loss: {loss.item():.4f}')"
   ]
  },
  {
   "cell_type": "markdown",
   "metadata": {},
   "source": [
    "## Complex Neural Network\n",
    "\n",
    "好的，让我们构建一个稍微复杂一些的神经网络。这次，我们将构建一个包含多个隐藏层的网络，并引入一些新概念，如批归一化（Batch Normalization）和Dropout。这种网络可以更好地处理过拟合并提高模型的泛化能力。我们将以图像分类任务为例，构建一个用于处理MNIST数据集的网络。\n",
    "\n",
    "### 神经网络结构\n",
    "\n",
    "1. **输入层**: 接收图像数据。\n",
    "2. **多个隐藏层**: 用于特征提取，每个隐藏层后面跟着一个批归一化层和ReLU激活函数。\n",
    "3. **Dropout层**: 用于减少过拟合。\n",
    "4. **输出层**: 输出分类结果。\n",
    "5. **激活函数**: 隐藏层使用ReLU，输出层使用Softmax。\n",
    "\n",
    "### 构建网络模型"
   ]
  },
  {
   "cell_type": "code",
   "execution_count": 109,
   "metadata": {},
   "outputs": [
    {
     "name": "stdout",
     "output_type": "stream",
     "text": [
      "ComplexNet(\n",
      "  (fc1): Linear(in_features=784, out_features=512, bias=True)\n",
      "  (bn1): BatchNorm1d(512, eps=1e-05, momentum=0.1, affine=True, track_running_stats=True)\n",
      "  (fc2): Linear(in_features=512, out_features=512, bias=True)\n",
      "  (bn2): BatchNorm1d(512, eps=1e-05, momentum=0.1, affine=True, track_running_stats=True)\n",
      "  (fc3): Linear(in_features=512, out_features=10, bias=True)\n",
      "  (dropout): Dropout(p=0.5, inplace=False)\n",
      ")\n"
     ]
    }
   ],
   "source": [
    "import torch\n",
    "import torch.nn as nn\n",
    "import torch.nn.functional as F\n",
    "\n",
    "class ComplexNet(nn.Module):\n",
    "    def __init__(self):\n",
    "        super(ComplexNet, self).__init__()\n",
    "        self.fc1 = nn.Linear(28*28, 512)  # 将28x28图像展平为一维向量\n",
    "        self.bn1 = nn.BatchNorm1d(512)\n",
    "        self.fc2 = nn.Linear(512, 512)\n",
    "        self.bn2 = nn.BatchNorm1d(512)\n",
    "        self.fc3 = nn.Linear(512, 10)     # 10个输出，对应于MNIST的10个类别\n",
    "        self.dropout = nn.Dropout(0.5)\n",
    "\n",
    "    def forward(self, x):\n",
    "        x = x.view(-1, 28*28)            # 展平图像\n",
    "        x = F.relu(self.bn1(self.fc1(x)))\n",
    "        x = self.dropout(x)              # 在第一个隐藏层后应用dropout\n",
    "        x = F.relu(self.bn2(self.fc2(x)))\n",
    "        x = F.log_softmax(self.fc3(x), dim=1)  # 应用Softmax于输出层\n",
    "        return x\n",
    "\n",
    "# 实例化模型\n",
    "model = ComplexNet()\n",
    "print(model)"
   ]
  },
  {
   "cell_type": "markdown",
   "metadata": {},
   "source": [
    "### 神经网络的工作原理\n",
    "\n",
    "- **前向传播**:\n",
    "  - 数据通过全连接层（`fc1`）进行线性变换。\n",
    "  - 应用批归一化，标准化每个小批次的输入，有助于加速训练过程并减少过拟合。\n",
    "  - 使用ReLU激活函数引入非线性。\n",
    "  - 使用Dropout随机丢弃一些神经元的输出，以减少过拟合。\n",
    "  - 重复这个过程直到最后一层。\n",
    "  - 最后一层使用Softmax激活函数进行多类别分类。\n",
    "\n",
    "- **损失函数和优化器**:\n",
    "  - 损失函数通常选择交叉熵损失，适用于多类别分类问题。\n",
    "  - 选择一个优化器，比如Adam或SGD，用于更新模型的权重。\n",
    "\n",
    "### 训练流程\n",
    "\n",
    "- 训练网络时，需要定义损失函数和优化器。\n",
    "- 训练循环通常包括数据的前向传播、损失计算、梯度的反向传播和优化器的权重更新。\n",
    "- 在每个epoch结束时评估模型的性能，并可能调整学习率。\n",
    "\n",
    "### 为何选择这些组件\n",
    "\n",
    "- **批归一化**: 有助于网络更快地收敛，并且可以提高模型的稳定性。\n",
    "- **Dropout**: 减少复杂网络中的过拟合现象。\n",
    "- **多个隐藏层**: 提高网络的能力来学习更复杂的特征。\n",
    "- **ReLU激活函数**: 提供非线性，帮助网络学习复杂的模式。\n",
    "- **Softmax输出**: 用于多类别分类任务，它可以将输出转化为概率分布。\n",
    "\n",
    "这个例子展示了如何构建一个稍复杂的神经\n",
    "\n",
    "网络，适用于更复杂的任务，如图像分类。这种类型的网络可以根据需要调整，添加更多的层或修改层的参数以适应不同的数据集和任务。"
   ]
  },
  {
   "cell_type": "markdown",
   "metadata": {},
   "source": [
    "## 实例化 ComplexNet\n",
    "\n",
    "为了使用我们刚才定义的`ComplexNet`神经网络进行手写数字识别（如MNIST数据集），我们首先需要实例化网络，然后加载并预处理数据，最后进行训练和评估。这个过程涉及几个步骤，包括数据加载、转换、创建训练循环等。\n",
    "\n",
    "### 步骤概览\n",
    "\n",
    "1. **实例化网络**\n",
    "2. **加载和预处理数据**\n",
    "3. **定义损失函数和优化器**\n",
    "4. **训练网络**\n",
    "5. **评估网络性能**\n",
    "\n",
    "### 1. 实例化网络"
   ]
  },
  {
   "cell_type": "code",
   "execution_count": 110,
   "metadata": {},
   "outputs": [],
   "source": [
    "model = ComplexNet()"
   ]
  },
  {
   "cell_type": "markdown",
   "metadata": {},
   "source": [
    "### 2. 加载和预处理MNIST数据集\n",
    "\n",
    "使用PyTorch提供的工具来下载和加载数据。我们还需要对数据进行适当的预处理。"
   ]
  },
  {
   "cell_type": "code",
   "execution_count": 111,
   "metadata": {},
   "outputs": [],
   "source": [
    "import torch\n",
    "from torchvision import datasets, transforms\n",
    "from torch.utils.data import DataLoader\n",
    "\n",
    "# 定义数据转换\n",
    "transform = transforms.Compose([\n",
    "    transforms.ToTensor(),  # 将图片转换为Tensor\n",
    "    transforms.Normalize((0.5,), (0.5,))  # 归一化\n",
    "])\n",
    "\n",
    "# 加载训练集和测试集\n",
    "train_dataset = datasets.MNIST(root='./data', train=True, download=True, transform=transform)\n",
    "test_dataset = datasets.MNIST(root='./data', train=False, download=True, transform=transform)\n",
    "\n",
    "# 创建数据加载器\n",
    "train_loader = DataLoader(train_dataset, batch_size=64, shuffle=True)\n",
    "test_loader = DataLoader(test_dataset, batch_size=64, shuffle=False)"
   ]
  },
  {
   "cell_type": "markdown",
   "metadata": {},
   "source": [
    "### 3. 定义损失函数和优化器"
   ]
  },
  {
   "cell_type": "code",
   "execution_count": 112,
   "metadata": {},
   "outputs": [],
   "source": [
    "criterion = nn.CrossEntropyLoss()\n",
    "optimizer = torch.optim.Adam(model.parameters(), lr=0.001)"
   ]
  },
  {
   "cell_type": "markdown",
   "metadata": {},
   "source": [
    "### 4. 训练网络\n",
    "\n",
    "训练过程涉及多次迭代数据集，每次迭代中都会更新网络的权重。"
   ]
  },
  {
   "cell_type": "code",
   "execution_count": 113,
   "metadata": {},
   "outputs": [
    {
     "name": "stdout",
     "output_type": "stream",
     "text": [
      "Epoch [1/10], Loss: 0.2675\n",
      "Epoch [2/10], Loss: 0.0805\n",
      "Epoch [3/10], Loss: 0.3273\n",
      "Epoch [4/10], Loss: 0.3174\n",
      "Epoch [5/10], Loss: 0.0833\n",
      "Epoch [6/10], Loss: 0.0377\n",
      "Epoch [7/10], Loss: 0.0490\n",
      "Epoch [8/10], Loss: 0.3138\n",
      "Epoch [9/10], Loss: 0.0075\n",
      "Epoch [10/10], Loss: 0.1229\n"
     ]
    }
   ],
   "source": [
    "num_epochs = 10\n",
    "\n",
    "for epoch in range(num_epochs):\n",
    "    for images, labels in train_loader:\n",
    "        # 展平图像\n",
    "        images = images.view(-1, 28*28)\n",
    "\n",
    "        # 前向传播\n",
    "        outputs = model(images)\n",
    "        loss = criterion(outputs, labels)\n",
    "\n",
    "        # 反向传播和优化\n",
    "        optimizer.zero_grad()\n",
    "        loss.backward()\n",
    "        optimizer.step()\n",
    "    \n",
    "    print(f'Epoch [{epoch+1}/{num_epochs}], Loss: {loss.item():.4f}')"
   ]
  },
  {
   "cell_type": "markdown",
   "metadata": {},
   "source": [
    "### 5. 评估网络性能\n",
    "\n",
    "最后，我们使用测试集来评估网络的性能。"
   ]
  },
  {
   "cell_type": "code",
   "execution_count": 114,
   "metadata": {},
   "outputs": [
    {
     "name": "stdout",
     "output_type": "stream",
     "text": [
      "Accuracy of the network on the 10000 test images: 98.2 %\n"
     ]
    }
   ],
   "source": [
    "model.eval()  # 设置模型为评估模式\n",
    "with torch.no_grad():\n",
    "    correct = 0\n",
    "    total = 0\n",
    "    for images, labels in test_loader:\n",
    "        images = images.view(-1, 28*28)\n",
    "        outputs = model(images)\n",
    "        _, predicted = torch.max(outputs.data, 1)\n",
    "        total += labels.size(0)\n",
    "        correct += (predicted == labels).sum().item()\n",
    "\n",
    "    print(f'Accuracy of the network on the 10000 test images: {100 * correct / total} %')"
   ]
  },
  {
   "cell_type": "markdown",
   "metadata": {},
   "source": [
    "在这个例子中，我们构建了一个相对复杂的神经网络，并应用它来进行MNIST手写数字识别任务。通过这个过程，你可以看到从数据加载到模型训练再到评估的整个流程。这个示例可以作为构建和训练神经网络的基础模板，并根据实际任务的需要进行调整。"
   ]
  },
  {
   "cell_type": "markdown",
   "metadata": {},
   "source": [
    "在CUDA上训练神经网络，完整代码："
   ]
  },
  {
   "cell_type": "code",
   "execution_count": 115,
   "metadata": {},
   "outputs": [
    {
     "name": "stdout",
     "output_type": "stream",
     "text": [
      "Epoch [1/10], Loss: 0.1400\n",
      "Epoch [2/10], Loss: 0.0636\n",
      "Epoch [3/10], Loss: 0.0469\n",
      "Epoch [4/10], Loss: 0.0514\n",
      "Epoch [5/10], Loss: 0.0103\n",
      "Epoch [6/10], Loss: 0.0116\n",
      "Epoch [7/10], Loss: 0.0185\n",
      "Epoch [8/10], Loss: 0.1984\n",
      "Epoch [9/10], Loss: 0.1476\n",
      "Epoch [10/10], Loss: 0.1554\n",
      "Accuracy of the network on the 10000 test images: 98.43 %\n"
     ]
    }
   ],
   "source": [
    "import torch\n",
    "import torch.nn as nn\n",
    "import torch.nn.functional as F\n",
    "import torch.optim as optim\n",
    "from torchvision import datasets, transforms\n",
    "from torch.utils.data import DataLoader\n",
    "\n",
    "# 定义网络结构\n",
    "class ComplexNet(nn.Module):\n",
    "    def __init__(self):\n",
    "        super(ComplexNet, self).__init__()\n",
    "        self.fc1 = nn.Linear(28*28, 512)\n",
    "        self.bn1 = nn.BatchNorm1d(512)\n",
    "        self.fc2 = nn.Linear(512, 512)\n",
    "        self.bn2 = nn.BatchNorm1d(512)\n",
    "        self.fc3 = nn.Linear(512, 10)\n",
    "        self.dropout = nn.Dropout(0.5)\n",
    "\n",
    "    def forward(self, x):\n",
    "        x = x.view(-1, 28*28)\n",
    "        x = F.relu(self.bn1(self.fc1(x)))\n",
    "        x = self.dropout(x)\n",
    "        x = F.relu(self.bn2(self.fc2(x)))\n",
    "        x = F.log_softmax(self.fc3(x), dim=1)\n",
    "        return x\n",
    "\n",
    "# 检查CUDA是否可用并设置device\n",
    "device = torch.device(\"cuda\" if torch.cuda.is_available() else \"cpu\")\n",
    "\n",
    "# 实例化模型并移至device\n",
    "model = ComplexNet().to(device)\n",
    "\n",
    "# 定义数据转换\n",
    "transform = transforms.Compose([\n",
    "    transforms.ToTensor(),\n",
    "    transforms.Normalize((0.5,), (0.5,))\n",
    "])\n",
    "\n",
    "# 加载数据集\n",
    "train_dataset = datasets.MNIST(root='./data', train=True, download=True, transform=transform)\n",
    "test_dataset = datasets.MNIST(root='./data', train=False, download=True, transform=transform)\n",
    "\n",
    "train_loader = DataLoader(train_dataset, batch_size=64, shuffle=True)\n",
    "test_loader = DataLoader(test_dataset, batch_size=64, shuffle=False)\n",
    "\n",
    "# 定义损失函数和优化器\n",
    "criterion = nn.CrossEntropyLoss()\n",
    "optimizer = optim.Adam(model.parameters(), lr=0.001)\n",
    "\n",
    "# 训练模型\n",
    "num_epochs = 10\n",
    "for epoch in range(num_epochs):\n",
    "    model.train()  # 设置模型为训练模式\n",
    "    for images, labels in train_loader:\n",
    "        images, labels = images.to(device), labels.to(device)\n",
    "        \n",
    "        # 前向传播\n",
    "        outputs = model(images)\n",
    "        loss = criterion(outputs, labels)\n",
    "\n",
    "        # 反向传播和优化\n",
    "        optimizer.zero_grad()\n",
    "        loss.backward()\n",
    "        optimizer.step()\n",
    "    \n",
    "    print(f'Epoch [{epoch+1}/{num_epochs}], Loss: {loss.item():.4f}')\n",
    "\n",
    "# 评估模型\n",
    "model.eval()  # 设置模型为评估模式\n",
    "correct = 0\n",
    "total = 0\n",
    "with torch.no_grad():\n",
    "    for images, labels in test_loader:\n",
    "        images, labels = images.to(device), labels.to(device)\n",
    "        outputs = model(images)\n",
    "        _, predicted = torch.max(outputs.data, 1)\n",
    "        total += labels.size(0)\n",
    "        correct += (predicted == labels).sum().item()\n",
    "\n",
    "print(f'Accuracy of the network on the 10000 test images: {100 * correct / total} %')"
   ]
  },
  {
   "cell_type": "markdown",
   "metadata": {},
   "source": [
    "可视化神经网络的预测结果，完整代码："
   ]
  },
  {
   "cell_type": "code",
   "execution_count": 116,
   "metadata": {},
   "outputs": [
    {
     "data": {
      "image/png": "[encoded data removed]",
      "text/plain": [
       "<Figure size 1000x1000 with 25 Axes>"
      ]
     },
     "metadata": {},
     "output_type": "display_data"
    }
   ],
   "source": [
    "import matplotlib.pyplot as plt\n",
    "import numpy as np\n",
    "\n",
    "# 设置matplotlib以在Jupyter Notebook中显示图像\n",
    "%matplotlib inline\n",
    "\n",
    "# 获取测试数据集中的一些图像\n",
    "images, labels = next(iter(test_loader))\n",
    "images, labels = images[:25].to(device), labels[:25].to(device)\n",
    "\n",
    "# 评估模式\n",
    "model.eval()\n",
    "\n",
    "# 使用模型进行预测\n",
    "with torch.no_grad():\n",
    "    outputs = model(images)\n",
    "    _, predicted = torch.max(outputs, 1)\n",
    "\n",
    "# 将图像和标签转换回CPU，以便使用matplotlib进行可视化\n",
    "images = images.cpu()\n",
    "labels = labels.cpu()\n",
    "predicted = predicted.cpu()\n",
    "\n",
    "# 创建一个5x5的图像网格来显示\n",
    "fig, axes = plt.subplots(nrows=5, ncols=5, figsize=(10, 10))\n",
    "\n",
    "# 在每个子图中绘制图像和相应的标签\n",
    "for i, ax in enumerate(axes.flatten()):\n",
    "    image = images[i].numpy().squeeze()  # 转换为numpy数组并移除单维度\n",
    "    true_label = labels[i].item()\n",
    "    predicted_label = predicted[i].item()\n",
    "\n",
    "    ax.imshow(image, cmap='gray')\n",
    "    ax.set_title(f'True: {true_label}\\nPredicted: {predicted_label}')\n",
    "    ax.axis('off')\n",
    "\n",
    "# 显示整个图像网格\n",
    "plt.tight_layout()\n",
    "plt.show()\n",
    "\n"
   ]
  },
  {
   "cell_type": "markdown",
   "metadata": {},
   "source": [
    "## Convolutional Neural Network"
   ]
  },
  {
   "cell_type": "markdown",
   "metadata": {},
   "source": [
    "当然，卷积神经网络（CNN）是处理图像识别任务，尤其是MNIST手写数字识别的理想选择。CNN通过利用图像数据的空间层次结构，有效地学习图像特征。以下是一个简单的CNN模型，用于MNIST数据集的手写数字识别：\n",
    "\n",
    "### 1. 定义CNN模型\n",
    "\n",
    "这个CNN模型包含两个卷积层，每个卷积层后跟一个最大池化层，然后是两个全连接层。"
   ]
  },
  {
   "cell_type": "code",
   "execution_count": 117,
   "metadata": {},
   "outputs": [],
   "source": [
    "import torch\n",
    "import torch.nn as nn\n",
    "import torch.nn.functional as F\n",
    "\n",
    "class MNIST_CNN(nn.Module):\n",
    "    def __init__(self):\n",
    "        super(MNIST_CNN, self).__init__()\n",
    "        self.conv1 = nn.Conv2d(1, 32, kernel_size=5, stride=1, padding=2)\n",
    "        self.maxpool = nn.MaxPool2d(kernel_size=2, stride=2)\n",
    "        self.conv2 = nn.Conv2d(32, 64, kernel_size=5, stride=1, padding=2)\n",
    "        self.fc1 = nn.Linear(7*7*64, 1000)\n",
    "        self.fc2 = nn.Linear(1000, 10)\n",
    "\n",
    "    def forward(self, x):\n",
    "        x = F.relu(self.maxpool(self.conv1(x)))\n",
    "        x = F.relu(self.maxpool(self.conv2(x)))\n",
    "        x = x.view(-1, 7*7*64)\n",
    "        x = F.relu(self.fc1(x))\n",
    "        x = self.fc2(x)\n",
    "        return x"
   ]
  },
  {
   "cell_type": "markdown",
   "metadata": {},
   "source": [
    "在给出的CNN模型中，用于MNIST手写数字识别的各个层和超参数设置反映了典型的卷积神经网络设计。让我们逐一解释这些层和它们的超参数：\n",
    "\n",
    "### 1. 第一个卷积层 (`self.conv1`)\n",
    "\n",
    "- **输入通道数**: `1`，因为MNIST图像是灰度的，所以只有一个颜色通道。\n",
    "- **输出通道数**: `32`，这是卷积层的过滤器（或称为卷积核）的数量。每个过滤器会提取输入图像的不同特征。\n",
    "- **卷积核大小**: `kernel_size=5`，表示卷积核的尺寸是5x5。这是权重矩阵的大小，用于在输入图像上滑动以提取特征。\n",
    "- **步长 (Stride)**: `stride=1`，表示卷积核每次移动一个像素。\n",
    "- **填充 (Padding)**: `padding=2`，在输入图像的边缘添加额外的零填充，以保持输出特征图的空间尺寸。\n",
    "\n",
    "### 2. 最大池化层 (`self.maxpool`)\n",
    "\n",
    "- **池化窗口大小**: `kernel_size=2`，表示2x2的窗口用于最大池化。\n",
    "- **步长**: `stride=2`，表示池化窗口每次移动两个像素。\n",
    "- 池化层通常用于降低特征图的空间维度，同时保留重要信息。\n",
    "\n",
    "### 3. 第二个卷积层 (`self.conv2`)\n",
    "\n",
    "- **输入通道数**: `32`，与第一个卷积层的输出通道数相匹配。\n",
    "- **输出通道数**: `64`，增加输出通道数有助于网络捕获更复杂的特征。\n",
    "- **卷积核大小**: `kernel_size=5`。\n",
    "- **步长**: `stride=1`。\n",
    "- **填充**: `padding=2`。\n",
    "\n",
    "### 4. 第一个全连接层 (`self.fc1`)\n",
    "\n",
    "- **输入特征数**: `7*7*64`，这是因为经过两次卷积和池化操作后，图像的尺寸从28x28降到了7x7，且有64个特征通道。\n",
    "- **输出特征数**: `1000`，这是一个全连接层的神经元数量，可以视为网络的“学习参数”。\n",
    "\n",
    "### 5. 第二个全连接层 (`self.fc2`)\n",
    "\n",
    "- **输入特征数**: `1000`，与前一个全连接层的输出匹配。\n",
    "- **输出特征数**: `10`，对应于MNIST数据集的10个类别。\n",
    "\n",
    "在这个CNN模型中，卷积层用于特征提取，最大池化层用于降维和减少计算量，而全连接层用于基于这些特征做出最终的分类决策。每一层的超参数设置影响着模型的学习能力和性能。"
   ]
  },
  {
   "cell_type": "markdown",
   "metadata": {},
   "source": [
    "### 2. 加载和预处理MNIST数据集\n",
    "\n",
    "与前面相同，使用PyTorch提供的工具来下载和加载数据，并进行适当的预处理。"
   ]
  },
  {
   "cell_type": "code",
   "execution_count": 118,
   "metadata": {},
   "outputs": [],
   "source": [
    "from torchvision import datasets, transforms\n",
    "from torch.utils.data import DataLoader\n",
    "\n",
    "# 数据转换：转换为Tensor并进行归一化\n",
    "transform = transforms.Compose([\n",
    "    transforms.ToTensor(),\n",
    "    transforms.Normalize((0.1307,), (0.3081,))\n",
    "])\n",
    "\n",
    "# 下载和加载数据集\n",
    "train_dataset = datasets.MNIST('./data', train=True, download=True, transform=transform)\n",
    "test_dataset = datasets.MNIST('./data', train=False, transform=transform)\n",
    "\n",
    "train_loader = DataLoader(train_dataset, batch_size=64, shuffle=True)\n",
    "test_loader = DataLoader(test_dataset, batch_size=1000, shuffle=False)"
   ]
  },
  {
   "cell_type": "markdown",
   "metadata": {},
   "source": [
    "### 3. 训练CNN模型\n",
    "\n",
    "定义损失函数和优化器，然后进行训练。"
   ]
  },
  {
   "cell_type": "code",
   "execution_count": 119,
   "metadata": {},
   "outputs": [
    {
     "name": "stdout",
     "output_type": "stream",
     "text": [
      "Epoch 1, Loss: 0.17253127694129944\n",
      "Epoch 2, Loss: 0.00822906382381916\n",
      "Epoch 3, Loss: 0.00024080481671262532\n",
      "Epoch 4, Loss: 0.0015824304427951574\n",
      "Epoch 5, Loss: 0.14041239023208618\n"
     ]
    }
   ],
   "source": [
    "device = torch.device(\"cuda\" if torch.cuda.is_available() else \"cpu\")\n",
    "model = MNIST_CNN().to(device)\n",
    "criterion = nn.CrossEntropyLoss()\n",
    "optimizer = torch.optim.Adam(model.parameters(), lr=0.001)\n",
    "\n",
    "# 训练过程\n",
    "num_epochs = 5\n",
    "for epoch in range(num_epochs):\n",
    "    model.train()\n",
    "    for batch_idx, (data, target) in enumerate(train_loader):\n",
    "        data, target = data.to(device), target.to(device)\n",
    "        optimizer.zero_grad()\n",
    "        output = model(data)\n",
    "        loss = criterion(output, target)\n",
    "        loss.backward()\n",
    "        optimizer.step()\n",
    "        \n",
    "    print(f'Epoch {epoch+1}, Loss: {loss.item()}')"
   ]
  },
  {
   "cell_type": "markdown",
   "metadata": {},
   "source": [
    "### 4. 评估CNN模型\n",
    "\n",
    "评估模型在测试数据上的性能。"
   ]
  },
  {
   "cell_type": "code",
   "execution_count": 120,
   "metadata": {},
   "outputs": [
    {
     "name": "stdout",
     "output_type": "stream",
     "text": [
      "Accuracy of the model on the 10000 test images: 98.87 %\n"
     ]
    }
   ],
   "source": [
    "model.eval()\n",
    "correct = 0\n",
    "total = 0\n",
    "with torch.no_grad():\n",
    "    for data, target in test_loader:\n",
    "        data, target = data.to(device), target.to(device)\n",
    "        outputs = model(data)\n",
    "        _, predicted = torch.max(outputs.data, 1)\n",
    "        total += target.size(0)\n",
    "        correct += (predicted == target).sum().item()\n",
    "\n",
    "print(f'Accuracy of the model on the 10000 test images: {100 * correct / total} %')"
   ]
  },
  {
   "cell_type": "markdown",
   "metadata": {},
   "source": [
    "这个示例展示了如何使用CNN来处理MNIST手写数字识别问题。这个模型相对简单，但已经足够处理基本的图像识别任务。在实际应用中，可以根据需要调整模型结构和参数来提高性能。"
   ]
  },
  {
   "cell_type": "markdown",
   "metadata": {},
   "source": [
    "## TensorFlow: Convolutional Neural Network\n",
    "\n",
    "使用TensorFlow来实现MNIST手写数字识别与使用PyTorch类似，但有一些关键的区别，尤其是在框架的API和数据处理方面。以下是使用TensorFlow实现MNIST手写数字识别的步骤和代码示例。\n",
    "\n",
    "### 1. 导入TensorFlow和其他必要的库\n"
   ]
  },
  {
   "cell_type": "code",
   "execution_count": 128,
   "metadata": {},
   "outputs": [],
   "source": [
    "import tensorflow as tf\n",
    "from tensorflow.keras import layers, models"
   ]
  },
  {
   "cell_type": "markdown",
   "metadata": {},
   "source": [
    "### 2. 加载和预处理MNIST数据集\n",
    "\n",
    "TensorFlow提供了方便的方法来下载和加载MNIST数据集。"
   ]
  },
  {
   "cell_type": "code",
   "execution_count": 129,
   "metadata": {},
   "outputs": [],
   "source": [
    "mnist = tf.keras.datasets.mnist\n",
    "\n",
    "(x_train, y_train), (x_test, y_test) = mnist.load_data()\n",
    "x_train, x_test = x_train / 255.0, x_test / 255.0  # 归一化\n",
    "\n",
    "# 添加一个颜色通道维度\n",
    "x_train = x_train[..., tf.newaxis]\n",
    "x_test = x_test[..., tf.newaxis]"
   ]
  },
  {
   "cell_type": "markdown",
   "metadata": {},
   "source": [
    "### 3. 构建CNN模型\n",
    "\n",
    "使用Keras API来构建CNN。"
   ]
  },
  {
   "cell_type": "code",
   "execution_count": 130,
   "metadata": {},
   "outputs": [],
   "source": [
    "model = models.Sequential([\n",
    "    layers.Conv2D(32, (3, 3), activation='relu', input_shape=(28, 28, 1)),\n",
    "    layers.MaxPooling2D((2, 2)),\n",
    "    layers.Conv2D(64, (3, 3), activation='relu'),\n",
    "    layers.MaxPooling2D((2, 2)),\n",
    "    layers.Flatten(),\n",
    "    layers.Dense(64, activation='relu'),\n",
    "    layers.Dense(10, activation='softmax')\n",
    "])\n",
    "\n",
    "model.compile(optimizer='adam',\n",
    "              loss='sparse_categorical_crossentropy',\n",
    "              metrics=['accuracy'])"
   ]
  },
  {
   "cell_type": "markdown",
   "metadata": {},
   "source": [
    "### 4. 训练模型\n",
    "\n",
    "使用准备好的数据集和定义好的模型进行训练。"
   ]
  },
  {
   "cell_type": "code",
   "execution_count": 131,
   "metadata": {},
   "outputs": [
    {
     "name": "stdout",
     "output_type": "stream",
     "text": [
      "Epoch 1/5\n",
      "60000/60000 [==============================] - 16s 275us/sample - loss: 0.1405 - acc: 0.9572\n",
      "Epoch 2/5\n",
      "60000/60000 [==============================] - 18s 292us/sample - loss: 0.0466 - acc: 0.9853\n",
      "Epoch 3/5\n",
      "60000/60000 [==============================] - 18s 294us/sample - loss: 0.0319 - acc: 0.9899\n",
      "Epoch 4/5\n",
      "60000/60000 [==============================] - 19s 312us/sample - loss: 0.0237 - acc: 0.9924\n",
      "Epoch 5/5\n",
      "60000/60000 [==============================] - 20s 335us/sample - loss: 0.0186 - acc: 0.9941\n"
     ]
    },
    {
     "data": {
      "text/plain": [
       "<tensorflow.python.keras.callbacks.History at 0x147711adf08>"
      ]
     },
     "execution_count": 131,
     "metadata": {},
     "output_type": "execute_result"
    }
   ],
   "source": [
    "model.fit(x_train, y_train, epochs=5)"
   ]
  },
  {
   "cell_type": "markdown",
   "metadata": {},
   "source": [
    "### 5. 评估模型\n",
    "\n",
    "评估模型在测试数据集上的表现。"
   ]
  },
  {
   "cell_type": "code",
   "execution_count": 132,
   "metadata": {},
   "outputs": [
    {
     "name": "stdout",
     "output_type": "stream",
     "text": [
      "10000/10000 - 1s - loss: 0.0346 - acc: 0.9889\n",
      "\n",
      "Test accuracy: 0.9889000058174133\n"
     ]
    }
   ],
   "source": [
    "test_loss, test_acc = model.evaluate(x_test, y_test, verbose=2)\n",
    "print(f'\\nTest accuracy: {test_acc}')"
   ]
  },
  {
   "cell_type": "markdown",
   "metadata": {},
   "source": [
    "这个示例展示了使用TensorFlow和Keras构建和训练一个简单CNN来解决MNIST手写数字识别问题。TensorFlow的Keras API使得模型的构建和训练过程非常直观和方便。通过调整网络结构、增加更多的卷积层、调整超参数等方式，可以进一步提高模型的性能。"
   ]
  },
  {
   "cell_type": "code",
   "execution_count": 133,
   "metadata": {},
   "outputs": [
    {
     "data": {
      "image/png": "[encoded data removed]",
      "text/plain": [
       "<Figure size 1000x1000 with 25 Axes>"
      ]
     },
     "metadata": {},
     "output_type": "display_data"
    }
   ],
   "source": [
    "import matplotlib.pyplot as plt\n",
    "import numpy as np\n",
    "\n",
    "def visualize_model_predictions(model, images, labels, num_images=25):\n",
    "    predictions = model.predict(images[:num_images])\n",
    "    predicted_labels = np.argmax(predictions, axis=1)\n",
    "\n",
    "    fig, axes = plt.subplots(5, 5, figsize=(10, 10))\n",
    "    axes = axes.flatten()\n",
    "\n",
    "    for img, label, ax, predicted_label in zip(images, labels, axes, predicted_labels):\n",
    "        ax.imshow(img.squeeze(), cmap='gray')\n",
    "        ax.set_title(f'True: {label}, Pred: {predicted_label}')\n",
    "        ax.axis('off')\n",
    "\n",
    "    plt.tight_layout()\n",
    "    plt.show()\n",
    "\n",
    "# 取测试集中的一批数据\n",
    "num_images = 25\n",
    "test_images = x_test[:num_images]\n",
    "test_labels = y_test[:num_images]\n",
    "\n",
    "# 可视化模型预测\n",
    "visualize_model_predictions(model, test_images, test_labels, num_images)\n"
   ]
  },
  {
   "cell_type": "markdown",
   "metadata": {},
   "source": [
    "## Residual Neural Network\n",
    "\n",
    "\n",
    "残差神经网络（Residual Neural Network，简称ResNet）是深度学习中的一种创新架构，由Kaiming He等人在2015年的论文《Deep Residual Learning for Image Recognition》中首次提出。ResNet通过引入所谓的“残差块”（Residual Blocks）来解决深度神经网络中的退化问题，使得可以有效地训练非常深的网络。\n",
    "\n",
    "### 核心概念：残差块\n",
    "\n",
    "残差块的核心思想是引入一种“捷径” (Shortcut Connection) 或“跳跃连接” (Skip Connection)，使得网络的一层可以学习到关于另一层的残差。如果我们将输入记为 $x$ ，理想的输出记为 $H(x)$ ，残差块则尝试学习残差 $F(x)=H(x)-x$ 。因此，残差块的输出可以表示为 $F(x)+x$ 。\n",
    "\n",
    "### 数学公式\n",
    "\n",
    "在一个基本的残差块中，如果没有任何非线性，数学公式可以简化为:\n",
    "$$\n",
    "H(x)=F(x)+x\n",
    "$$\n",
    "\n",
    "其中:\n",
    "- $H(x)$ 是残差块的输出。\n",
    "- $F(x)$ 是在残差块内部进行的操作 (例如, 两个卷积操作)。\n",
    "- $x$ 是残差块的输入。\n",
    "\n",
    "通常，残差块还包含非线性激活函数（如ReLU），因此完整的公式更常见的形式是:\n",
    "$$\n",
    "H(x)=\\operatorname{ReLU}(F(x)+x)\n",
    "$$\n",
    "\n",
    "\n",
    "### 实现和优势\n",
    "1. 实现: 在实践中，残差块通常由几个卷积层构成，这些卷积层处理输入数据，然后将结果与原始输入相加。如果输入和输出的维度不匹配，则使用一个线性投影 $W_s$ 来调整尺寸，即 $H(x)=F(x)+W_s x 。$\n",
    "2. 优势:\n",
    "- 解决退化问题：在传统的深度网络中，随着层数的增加，网络性能往往会饱和甚至退化。残差网络通过跳跃连接允许信息的无障碍流动，从而缓解了这个问题。\n",
    "- 便于优化：残差网络的引入减轻了梯度消失的问题，使得网络更容易训练。\n",
    "- 提高准确率: 实验证明，ResNet能够在保持适度的计算复杂度的同时，显著提高深度神经网络的准确率，尤其是在深度学习应用于图像识别等领域时。这种网络结构让模型能够有效地学习并提取更深层次、更抽象的特征。\n",
    "\n",
    "### ResNet的实现\n",
    "\n",
    "实现ResNet的关键是构建有效的残差块。这些残差块可以堆叠起来，形成一个非常深的网络。在每个残差块中，输入通过一系列卷积层（通常是两个或三个），然后与原始输入相加。如果卷积层的输出与输入的维度不匹配，会使用一个线性变换（通常是一个卷积层）来调整尺寸，以便可以进行相加。\n",
    "\n",
    "例如，一个典型的两层残差块可以表示为："
   ]
  },
  {
   "cell_type": "code",
   "execution_count": 134,
   "metadata": {},
   "outputs": [],
   "source": [
    "class ResidualBlock(nn.Module):\n",
    "    def __init__(self, in_channels, out_channels, stride=1, downsample=None):\n",
    "        super(ResidualBlock, self).__init__()\n",
    "        self.conv1 = nn.Conv2d(in_channels, out_channels, kernel_size=3, stride=stride, padding=1, bias=False)\n",
    "        self.bn1 = nn.BatchNorm2d(out_channels)\n",
    "        self.relu = nn.ReLU(inplace=True)\n",
    "        self.conv2 = nn.Conv2d(out_channels, out_channels, kernel_size=3, padding=1, bias=False)\n",
    "        self.bn2 = nn.BatchNorm2d(out_channels)\n",
    "        self.downsample = downsample\n",
    "\n",
    "    def forward(self, x):\n",
    "        residual = x\n",
    "        if self.downsample:\n",
    "            residual = self.downsample(x)\n",
    "\n",
    "        out = self.conv1(x)\n",
    "        out = self.bn1(out)\n",
    "        out = self.relu(out)\n",
    "\n",
    "        out = self.conv2(out)\n",
    "        out = self.bn2(out)\n",
    "\n",
    "        out += residual\n",
    "        out = self.relu(out)\n",
    "        return out"
   ]
  },
  {
   "cell_type": "markdown",
   "metadata": {},
   "source": [
    "### ResNet的优势\n",
    "\n",
    "1. **避免梯度消失/爆炸**：由于残差块的特性，梯度可以通过“捷径”直接传播，有效减轻深层网络中梯度消失或爆炸的问题。\n",
    "\n",
    "2. **便于优化**：相对于传统深度神经网络，残差网络更容易进行训练。研究表明，即使网络非常深，残差网络也能保持较好的收敛性能。\n",
    "\n",
    "3. **强大的表现力**：ResNet能够通过增加更多的层来提高网络的表现力，而不会降低训练效率。这使得ResNet在许多深度学习任务中表现卓越，尤其是在图像分类和对象识别方面。\n",
    "\n",
    "### 结论\n",
    "\n",
    "ResNet的提出，标志着深度学习领域的一个重要进步。它不仅解决了深度网络中常见的问题，还开辟了设计更深、更强大网络架构的新路径。ResNet及其变体在众多深度学习应用中仍然是最常用和最有效的网络架构之一。"
   ]
  },
  {
   "cell_type": "markdown",
   "metadata": {},
   "source": [
    "### 实例化 ResNet"
   ]
  },
  {
   "cell_type": "code",
   "execution_count": 136,
   "metadata": {},
   "outputs": [
    {
     "name": "stdout",
     "output_type": "stream",
     "text": [
      "ResNet(\n",
      "  (conv): Conv2d(3, 64, kernel_size=(7, 7), stride=(2, 2), padding=(3, 3), bias=False)\n",
      "  (bn): BatchNorm2d(64, eps=1e-05, momentum=0.1, affine=True, track_running_stats=True)\n",
      "  (relu): ReLU(inplace=True)\n",
      "  (maxpool): MaxPool2d(kernel_size=3, stride=2, padding=1, dilation=1, ceil_mode=False)\n",
      "  (layer1): Sequential(\n",
      "    (0): ResidualBlock(\n",
      "      (conv1): Conv2d(64, 64, kernel_size=(3, 3), stride=(1, 1), padding=(1, 1), bias=False)\n",
      "      (bn1): BatchNorm2d(64, eps=1e-05, momentum=0.1, affine=True, track_running_stats=True)\n",
      "      (relu): ReLU(inplace=True)\n",
      "      (conv2): Conv2d(64, 64, kernel_size=(3, 3), stride=(1, 1), padding=(1, 1), bias=False)\n",
      "      (bn2): BatchNorm2d(64, eps=1e-05, momentum=0.1, affine=True, track_running_stats=True)\n",
      "    )\n",
      "    (1): ResidualBlock(\n",
      "      (conv1): Conv2d(64, 64, kernel_size=(3, 3), stride=(1, 1), padding=(1, 1), bias=False)\n",
      "      (bn1): BatchNorm2d(64, eps=1e-05, momentum=0.1, affine=True, track_running_stats=True)\n",
      "      (relu): ReLU(inplace=True)\n",
      "      (conv2): Conv2d(64, 64, kernel_size=(3, 3), stride=(1, 1), padding=(1, 1), bias=False)\n",
      "      (bn2): BatchNorm2d(64, eps=1e-05, momentum=0.1, affine=True, track_running_stats=True)\n",
      "    )\n",
      "  )\n",
      "  (layer2): Sequential(\n",
      "    (0): ResidualBlock(\n",
      "      (conv1): Conv2d(64, 128, kernel_size=(3, 3), stride=(2, 2), padding=(1, 1), bias=False)\n",
      "      (bn1): BatchNorm2d(128, eps=1e-05, momentum=0.1, affine=True, track_running_stats=True)\n",
      "      (relu): ReLU(inplace=True)\n",
      "      (conv2): Conv2d(128, 128, kernel_size=(3, 3), stride=(1, 1), padding=(1, 1), bias=False)\n",
      "      (bn2): BatchNorm2d(128, eps=1e-05, momentum=0.1, affine=True, track_running_stats=True)\n",
      "      (downsample): Sequential(\n",
      "        (0): Conv2d(64, 128, kernel_size=(1, 1), stride=(2, 2), bias=False)\n",
      "        (1): BatchNorm2d(128, eps=1e-05, momentum=0.1, affine=True, track_running_stats=True)\n",
      "      )\n",
      "    )\n",
      "    (1): ResidualBlock(\n",
      "      (conv1): Conv2d(128, 128, kernel_size=(3, 3), stride=(1, 1), padding=(1, 1), bias=False)\n",
      "      (bn1): BatchNorm2d(128, eps=1e-05, momentum=0.1, affine=True, track_running_stats=True)\n",
      "      (relu): ReLU(inplace=True)\n",
      "      (conv2): Conv2d(128, 128, kernel_size=(3, 3), stride=(1, 1), padding=(1, 1), bias=False)\n",
      "      (bn2): BatchNorm2d(128, eps=1e-05, momentum=0.1, affine=True, track_running_stats=True)\n",
      "    )\n",
      "  )\n",
      "  (layer3): Sequential(\n",
      "    (0): ResidualBlock(\n",
      "      (conv1): Conv2d(128, 256, kernel_size=(3, 3), stride=(2, 2), padding=(1, 1), bias=False)\n",
      "      (bn1): BatchNorm2d(256, eps=1e-05, momentum=0.1, affine=True, track_running_stats=True)\n",
      "      (relu): ReLU(inplace=True)\n",
      "      (conv2): Conv2d(256, 256, kernel_size=(3, 3), stride=(1, 1), padding=(1, 1), bias=False)\n",
      "      (bn2): BatchNorm2d(256, eps=1e-05, momentum=0.1, affine=True, track_running_stats=True)\n",
      "      (downsample): Sequential(\n",
      "        (0): Conv2d(128, 256, kernel_size=(1, 1), stride=(2, 2), bias=False)\n",
      "        (1): BatchNorm2d(256, eps=1e-05, momentum=0.1, affine=True, track_running_stats=True)\n",
      "      )\n",
      "    )\n",
      "    (1): ResidualBlock(\n",
      "      (conv1): Conv2d(256, 256, kernel_size=(3, 3), stride=(1, 1), padding=(1, 1), bias=False)\n",
      "      (bn1): BatchNorm2d(256, eps=1e-05, momentum=0.1, affine=True, track_running_stats=True)\n",
      "      (relu): ReLU(inplace=True)\n",
      "      (conv2): Conv2d(256, 256, kernel_size=(3, 3), stride=(1, 1), padding=(1, 1), bias=False)\n",
      "      (bn2): BatchNorm2d(256, eps=1e-05, momentum=0.1, affine=True, track_running_stats=True)\n",
      "    )\n",
      "  )\n",
      "  (layer4): Sequential(\n",
      "    (0): ResidualBlock(\n",
      "      (conv1): Conv2d(256, 512, kernel_size=(3, 3), stride=(2, 2), padding=(1, 1), bias=False)\n",
      "      (bn1): BatchNorm2d(512, eps=1e-05, momentum=0.1, affine=True, track_running_stats=True)\n",
      "      (relu): ReLU(inplace=True)\n",
      "      (conv2): Conv2d(512, 512, kernel_size=(3, 3), stride=(1, 1), padding=(1, 1), bias=False)\n",
      "      (bn2): BatchNorm2d(512, eps=1e-05, momentum=0.1, affine=True, track_running_stats=True)\n",
      "      (downsample): Sequential(\n",
      "        (0): Conv2d(256, 512, kernel_size=(1, 1), stride=(2, 2), bias=False)\n",
      "        (1): BatchNorm2d(512, eps=1e-05, momentum=0.1, affine=True, track_running_stats=True)\n",
      "      )\n",
      "    )\n",
      "    (1): ResidualBlock(\n",
      "      (conv1): Conv2d(512, 512, kernel_size=(3, 3), stride=(1, 1), padding=(1, 1), bias=False)\n",
      "      (bn1): BatchNorm2d(512, eps=1e-05, momentum=0.1, affine=True, track_running_stats=True)\n",
      "      (relu): ReLU(inplace=True)\n",
      "      (conv2): Conv2d(512, 512, kernel_size=(3, 3), stride=(1, 1), padding=(1, 1), bias=False)\n",
      "      (bn2): BatchNorm2d(512, eps=1e-05, momentum=0.1, affine=True, track_running_stats=True)\n",
      "    )\n",
      "  )\n",
      "  (avgpool): AdaptiveAvgPool2d(output_size=(1, 1))\n",
      "  (fc): Linear(in_features=512, out_features=10, bias=True)\n",
      ")\n"
     ]
    }
   ],
   "source": [
    "import torch\n",
    "import torch.nn as nn\n",
    "\n",
    "# 定义一个残差块\n",
    "class ResidualBlock(nn.Module):\n",
    "    def __init__(self, in_channels, out_channels, stride=1, downsample=None):\n",
    "        super(ResidualBlock, self).__init__()\n",
    "        self.conv1 = nn.Conv2d(in_channels, out_channels, kernel_size=3, stride=stride, padding=1, bias=False)\n",
    "        self.bn1 = nn.BatchNorm2d(out_channels)\n",
    "        self.relu = nn.ReLU(inplace=True)\n",
    "        self.conv2 = nn.Conv2d(out_channels, out_channels, kernel_size=3, padding=1, bias=False)\n",
    "        self.bn2 = nn.BatchNorm2d(out_channels)\n",
    "        self.downsample = downsample\n",
    "\n",
    "    def forward(self, x):\n",
    "        residual = x\n",
    "        if self.downsample:\n",
    "            residual = self.downsample(x)\n",
    "\n",
    "        out = self.conv1(x)\n",
    "        out = self.bn1(out)\n",
    "        out = self.relu(out)\n",
    "\n",
    "        out = self.conv2(out)\n",
    "        out = self.bn2(out)\n",
    "\n",
    "        out += residual\n",
    "        out = self.relu(out)\n",
    "        return out\n",
    "\n",
    "# 定义整个残差神经网络\n",
    "class ResNet(nn.Module):\n",
    "    def __init__(self, block, layers, num_classes=10):\n",
    "        super(ResNet, self).__init__()\n",
    "        self.in_channels = 64\n",
    "        self.conv = nn.Conv2d(3, 64, kernel_size=7, stride=2, padding=3, bias=False)\n",
    "        self.bn = nn.BatchNorm2d(64)\n",
    "        self.relu = nn.ReLU(inplace=True)\n",
    "        self.maxpool = nn.MaxPool2d(kernel_size=3, stride=2, padding=1)\n",
    "        self.layer1 = self.make_layer(block, 64, layers[0])\n",
    "        self.layer2 = self.make_layer(block, 128, layers[1], 2)\n",
    "        self.layer3 = self.make_layer(block, 256, layers[2], 2)\n",
    "        self.layer4 = self.make_layer(block, 512, layers[3], 2)\n",
    "        self.avgpool = nn.AdaptiveAvgPool2d((1, 1))\n",
    "        self.fc = nn.Linear(512, num_classes)\n",
    "\n",
    "    def make_layer(self, block, out_channels, blocks, stride=1):\n",
    "        downsample = None\n",
    "        if (stride != 1) or (self.in_channels != out_channels):\n",
    "            downsample = nn.Sequential(\n",
    "                nn.Conv2d(self.in_channels, out_channels, kernel_size=1, stride=stride, bias=False),\n",
    "                nn.BatchNorm2d(out_channels))\n",
    "        \n",
    "        layers = []\n",
    "        layers.append(block(self.in_channels, out_channels, stride, downsample))\n",
    "        self.in_channels = out_channels\n",
    "        for _ in range(1, blocks):\n",
    "            layers.append(block(out_channels, out_channels))\n",
    "\n",
    "        return nn.Sequential(*layers)\n",
    "\n",
    "    def forward(self, x):\n",
    "        out = self.conv(x)\n",
    "        out = self.bn(out)\n",
    "        out = self.relu(out)\n",
    "        out = self.maxpool(out)\n",
    "\n",
    "        out = self.layer1(out)\n",
    "        out = self.layer2(out)\n",
    "        out = self.layer3(out)\n",
    "        out = self.layer4(out)\n",
    "\n",
    "        out = self.avgpool(out)\n",
    "        out = torch.flatten(out, 1)\n",
    "        out = self.fc(out)\n",
    "        return out\n",
    "\n",
    "# 实例化一个ResNet\n",
    "model = ResNet(ResidualBlock, [2, 2, 2, 2])  # 使用ResNet18的架构\n",
    "print(model)"
   ]
  },
  {
   "cell_type": "markdown",
   "metadata": {},
   "source": [
    "### ResNet & MNIST\n",
    "\n",
    "简化版的ResNet，用于MNIST手写数字识别。"
   ]
  },
  {
   "cell_type": "code",
   "execution_count": 144,
   "metadata": {},
   "outputs": [
    {
     "data": {
      "text/plain": [
       "SimplifiedResNet(\n",
       "  (conv): Conv2d(1, 16, kernel_size=(3, 3), stride=(1, 1), padding=(1, 1), bias=False)\n",
       "  (bn): BatchNorm2d(16, eps=1e-05, momentum=0.1, affine=True, track_running_stats=True)\n",
       "  (relu): ReLU(inplace=True)\n",
       "  (layer1): Sequential(\n",
       "    (0): ResidualBlock(\n",
       "      (conv1): Conv2d(16, 16, kernel_size=(3, 3), stride=(1, 1), padding=(1, 1), bias=False)\n",
       "      (bn1): BatchNorm2d(16, eps=1e-05, momentum=0.1, affine=True, track_running_stats=True)\n",
       "      (relu): ReLU(inplace=True)\n",
       "      (conv2): Conv2d(16, 16, kernel_size=(3, 3), stride=(1, 1), padding=(1, 1), bias=False)\n",
       "      (bn2): BatchNorm2d(16, eps=1e-05, momentum=0.1, affine=True, track_running_stats=True)\n",
       "    )\n",
       "    (1): ResidualBlock(\n",
       "      (conv1): Conv2d(16, 16, kernel_size=(3, 3), stride=(1, 1), padding=(1, 1), bias=False)\n",
       "      (bn1): BatchNorm2d(16, eps=1e-05, momentum=0.1, affine=True, track_running_stats=True)\n",
       "      (relu): ReLU(inplace=True)\n",
       "      (conv2): Conv2d(16, 16, kernel_size=(3, 3), stride=(1, 1), padding=(1, 1), bias=False)\n",
       "      (bn2): BatchNorm2d(16, eps=1e-05, momentum=0.1, affine=True, track_running_stats=True)\n",
       "    )\n",
       "  )\n",
       "  (layer2): Sequential(\n",
       "    (0): ResidualBlock(\n",
       "      (conv1): Conv2d(16, 32, kernel_size=(3, 3), stride=(2, 2), padding=(1, 1), bias=False)\n",
       "      (bn1): BatchNorm2d(32, eps=1e-05, momentum=0.1, affine=True, track_running_stats=True)\n",
       "      (relu): ReLU(inplace=True)\n",
       "      (conv2): Conv2d(32, 32, kernel_size=(3, 3), stride=(1, 1), padding=(1, 1), bias=False)\n",
       "      (bn2): BatchNorm2d(32, eps=1e-05, momentum=0.1, affine=True, track_running_stats=True)\n",
       "      (downsample): Sequential(\n",
       "        (0): Conv2d(16, 32, kernel_size=(1, 1), stride=(2, 2), bias=False)\n",
       "        (1): BatchNorm2d(32, eps=1e-05, momentum=0.1, affine=True, track_running_stats=True)\n",
       "      )\n",
       "    )\n",
       "    (1): ResidualBlock(\n",
       "      (conv1): Conv2d(32, 32, kernel_size=(3, 3), stride=(1, 1), padding=(1, 1), bias=False)\n",
       "      (bn1): BatchNorm2d(32, eps=1e-05, momentum=0.1, affine=True, track_running_stats=True)\n",
       "      (relu): ReLU(inplace=True)\n",
       "      (conv2): Conv2d(32, 32, kernel_size=(3, 3), stride=(1, 1), padding=(1, 1), bias=False)\n",
       "      (bn2): BatchNorm2d(32, eps=1e-05, momentum=0.1, affine=True, track_running_stats=True)\n",
       "    )\n",
       "  )\n",
       "  (avgpool): AdaptiveAvgPool2d(output_size=(1, 1))\n",
       "  (fc): Linear(in_features=32, out_features=10, bias=True)\n",
       ")"
      ]
     },
     "execution_count": 144,
     "metadata": {},
     "output_type": "execute_result"
    }
   ],
   "source": [
    "class SimplifiedResNet(nn.Module):\n",
    "    def __init__(self, block, layers, num_classes=10):\n",
    "        super(SimplifiedResNet, self).__init__()\n",
    "        self.in_channels = 16\n",
    "        self.conv = nn.Conv2d(1, 16, kernel_size=3, stride=1, padding=1, bias=False)\n",
    "        self.bn = nn.BatchNorm2d(16)\n",
    "        self.relu = nn.ReLU(inplace=True)\n",
    "        self.layer1 = self.make_layer(block, 16, layers[0])\n",
    "        self.layer2 = self.make_layer(block, 32, layers[1], stride=2)\n",
    "        self.avgpool = nn.AdaptiveAvgPool2d((1, 1))\n",
    "        self.fc = nn.Linear(32, num_classes)\n",
    "\n",
    "    def make_layer(self, block, out_channels, blocks, stride=1):\n",
    "        downsample = None\n",
    "        if (stride != 1) or (self.in_channels != out_channels):\n",
    "            downsample = nn.Sequential(\n",
    "                nn.Conv2d(self.in_channels, out_channels, kernel_size=1, stride=stride, bias=False),\n",
    "                nn.BatchNorm2d(out_channels))\n",
    "        \n",
    "        layers = []\n",
    "        layers.append(block(self.in_channels, out_channels, stride, downsample))\n",
    "        self.in_channels = out_channels\n",
    "        for _ in range(1, blocks):\n",
    "            layers.append(block(out_channels, out_channels))\n",
    "\n",
    "        return nn.Sequential(*layers)\n",
    "\n",
    "    def forward(self, x):\n",
    "        out = self.conv(x)\n",
    "        out = self.bn(out)\n",
    "        out = self.relu(out)\n",
    "\n",
    "        out = self.layer1(out)\n",
    "        out = self.layer2(out)\n",
    "\n",
    "        out = self.avgpool(out)\n",
    "        out = torch.flatten(out, 1)\n",
    "        out = self.fc(out)\n",
    "        return out\n",
    "\n",
    "# 实例化简化版的ResNet\n",
    "simplified_model = SimplifiedResNet(ResidualBlock, [2, 2])\n",
    "simplified_model"
   ]
  },
  {
   "cell_type": "markdown",
   "metadata": {},
   "source": [
    "要使用上述定义的ResNet模型来解决手写数字识别（MNIST数据集）问题，我们需要进行以下步骤：\n",
    "\n",
    "1. 加载和预处理MNIST数据集。\n",
    "2. 调整ResNet模型以适应MNIST数据集。\n",
    "3. 训练ResNet模型。\n",
    "4. 评估模型性能。\n",
    "\n",
    "### 1. 加载和预处理MNIST数据集\n",
    "\n",
    "由于MNIST数据集的图像是灰度图（单通道），我们需要稍微修改数据加载方式以确保图像的维度与ResNet模型兼容（期望的是3个颜色通道）。\n",
    "\n",
    "### 2. 调整ResNet模型\n",
    "\n",
    "我们可以直接使用上述定义的ResNet模型，因为我们已经通过转换调整了MNIST图像的大小以适应ResNet的输入尺寸。\n",
    "\n",
    "### 3. 训练ResNet模型\n",
    "\n",
    "接下来，我们将训练ResNet模型。由于这个过程可能会比较耗时，建议在具备GPU支持的环境中执行。\n",
    "\n",
    "### 4. 评估模型性能\n",
    "\n",
    "最后，我们将评估模型在测试集上的性能。\n",
    "\n",
    "这将给出模型在MNIST测试集上的准确率。由于ResNet是为更复杂的图像识别任务设计的，因此它在MNIST数据集上可能会表现出相当高的准确率。\n"
   ]
  },
  {
   "cell_type": "code",
   "execution_count": 148,
   "metadata": {},
   "outputs": [
    {
     "name": "stdout",
     "output_type": "stream",
     "text": [
      "Epoch 1/5, Loss: 0.10526567697525024\n",
      "Epoch 2/5, Loss: 0.008283661678433418\n",
      "Epoch 3/5, Loss: 0.029266273602843285\n",
      "Epoch 4/5, Loss: 0.025783509016036987\n",
      "Epoch 5/5, Loss: 0.0009795810328796506\n",
      "Accuracy of the model on the test images: 98.88 %\n"
     ]
    }
   ],
   "source": [
    "import torch\n",
    "import torch.nn as nn\n",
    "import torch.optim as optim\n",
    "from torchvision import datasets, transforms\n",
    "from torch.utils.data import DataLoader\n",
    "\n",
    "# 定义残差块\n",
    "class ResidualBlock(nn.Module):\n",
    "    def __init__(self, in_channels, out_channels, stride=1, downsample=None):\n",
    "        super(ResidualBlock, self).__init__()\n",
    "        self.conv1 = nn.Conv2d(in_channels, out_channels, kernel_size=3, stride=stride, padding=1, bias=False)\n",
    "        self.bn1 = nn.BatchNorm2d(out_channels)\n",
    "        self.relu = nn.ReLU(inplace=True)\n",
    "        self.conv2 = nn.Conv2d(out_channels, out_channels, kernel_size=3, padding=1, bias=False)\n",
    "        self.bn2 = nn.BatchNorm2d(out_channels)\n",
    "        self.downsample = downsample\n",
    "\n",
    "    def forward(self, x):\n",
    "        residual = x\n",
    "        if self.downsample:\n",
    "            residual = self.downsample(x)\n",
    "\n",
    "        out = self.conv1(x)\n",
    "        out = self.bn1(out)\n",
    "        out = self.relu(out)\n",
    "\n",
    "        out = self.conv2(out)\n",
    "        out = self.bn2(out)\n",
    "\n",
    "        out += residual\n",
    "        out = self.relu(out)\n",
    "        return out\n",
    "\n",
    "# 定义简化版的ResNet\n",
    "class SimplifiedResNet(nn.Module):\n",
    "    def __init__(self, block, layers, num_classes=10):\n",
    "        super(SimplifiedResNet, self).__init__()\n",
    "        self.in_channels = 16\n",
    "        self.conv = nn.Conv2d(1, 16, kernel_size=3, stride=1, padding=1, bias=False)\n",
    "        self.bn = nn.BatchNorm2d(16)\n",
    "        self.relu = nn.ReLU(inplace=True)\n",
    "        self.layer1 = self.make_layer(block, 16, layers[0])\n",
    "        self.layer2 = self.make_layer(block, 32, layers[1], stride=2)\n",
    "        self.avgpool = nn.AdaptiveAvgPool2d((1, 1))\n",
    "        self.fc = nn.Linear(32, num_classes)\n",
    "\n",
    "    def make_layer(self, block, out_channels, blocks, stride=1):\n",
    "        downsample = None\n",
    "        if (stride != 1) or (self.in_channels != out_channels):\n",
    "            downsample = nn.Sequential(\n",
    "                nn.Conv2d(self.in_channels, out_channels, kernel_size=1, stride=stride, bias=False),\n",
    "                nn.BatchNorm2d(out_channels))\n",
    "        \n",
    "        layers = []\n",
    "        layers.append(block(self.in_channels, out_channels, stride, downsample))\n",
    "        self.in_channels = out_channels\n",
    "        for _ in range(1, blocks):\n",
    "            layers.append(block(out_channels, out_channels))\n",
    "\n",
    "        return nn.Sequential(*layers)\n",
    "\n",
    "    def forward(self, x):\n",
    "        out = self.conv(x)\n",
    "        out = self.bn(out)\n",
    "        out = self.relu(out)\n",
    "\n",
    "        out = self.layer1(out)\n",
    "        out = self.layer2(out)\n",
    "\n",
    "        out = self.avgpool(out)\n",
    "        out = torch.flatten(out, 1)\n",
    "        out = self.fc(out)\n",
    "        return out\n",
    "\n",
    "# 加载MNIST数据集\n",
    "transform = transforms.Compose([\n",
    "    transforms.ToTensor(),\n",
    "    transforms.Normalize((0.1307,), (0.3081,))\n",
    "])\n",
    "\n",
    "train_dataset = datasets.MNIST(root='./data', train=True, download=True, transform=transform)\n",
    "test_dataset = datasets.MNIST(root='./data', train=False, transform=transform)\n",
    "\n",
    "train_loader = DataLoader(train_dataset, batch_size=64, shuffle=True)\n",
    "test_loader = DataLoader(test_dataset, batch_size=1000, shuffle=False)\n",
    "\n",
    "# 实例化模型、定义损失函数和优化器\n",
    "device = torch.device(\"cuda\" if torch.cuda.is_available() else \"cpu\")\n",
    "model = SimplifiedResNet(ResidualBlock, [2, 2]).to(device)\n",
    "criterion = nn.CrossEntropyLoss()\n",
    "optimizer = optim.Adam(model.parameters(), lr=0.001)\n",
    "\n",
    "# 训练模型\n",
    "num_epochs = 5\n",
    "for epoch in range(num_epochs):\n",
    "    model.train()\n",
    "    for batch_idx, (data, target) in enumerate(train_loader):\n",
    "        data, target = data.to(device), target.to(device)\n",
    "        optimizer.zero_grad()\n",
    "        output = model(data)\n",
    "        loss = criterion(output, target)\n",
    "        loss.backward()\n",
    "        optimizer.step()\n",
    "        \n",
    "    print(f'Epoch {epoch+1}/{num_epochs}, Loss: {loss.item()}')\n",
    "\n",
    "# 评估模型\n",
    "model.eval()\n",
    "correct = 0\n",
    "total = 0\n",
    "with torch.no_grad():\n",
    "    for data, target in test_loader:\n",
    "        data, target = data.to(device), target.to(device)\n",
    "        outputs = model(data)\n",
    "        _, predicted = torch.max(outputs.data, 1)\n",
    "        total += target.size(0)\n",
    "        correct += (predicted == target).sum().item()\n",
    "\n",
    "print(f'Accuracy of the model on the test images: {100 * correct / total} %')\n"
   ]
  },
  {
   "cell_type": "markdown",
   "metadata": {},
   "source": [
    "当然，我将逐一介绍这段代码中涉及的PyTorch `nn.Module`的主要接口函数及其应用场景。\n",
    "\n",
    "### 1. `__init__(self, ...)` 方法\n",
    "\n",
    "这是Python类的构造函数，在创建类的新实例时被调用。在这里，它用于初始化神经网络的各层和其他组件。\n",
    "\n",
    "- `super(ResidualBlock, self).__init__()`: 这行代码调用父类`nn.Module`的构造函数，是PyTorch中构建模型的标准做法。\n",
    "- `self.conv1`, `self.bn1`, `self.relu`, `self.conv2`, `self.bn2`: 这些行定义了卷积层、批标准化层和ReLU激活函数。例如，`nn.Conv2d`创建一个二维卷积层，`nn.BatchNorm2d`创建一个批标准化层，`nn.ReLU`创建一个ReLU激活层。\n",
    "- `self.downsample`: 在某些情况下，输入和输出的维度不匹配时，需要一个额外的下采样层来调整尺寸。\n",
    "\n",
    "### 2. `forward(self, x)` 方法\n",
    "\n",
    "`forward`方法定义了数据通过网络的方式，即模型的前向传播路径。\n",
    "\n",
    "- `residual = x`: 这行保存输入，用于之后的残差连接。\n",
    "- `if self.downsample`: 如果存在下采样层，则在残差连接前先进行下采样。\n",
    "- `out = self.conv1(x)` 等行: 这些是按顺序执行网络中定义的各个层。卷积层、批标准化层和ReLU激活函数按照定义的顺序依次处理输入数据。\n",
    "- `out += residual`: 实现残差连接。将处理后的输出与原始输入相加，以引入残差。\n",
    "- `return out`: 返回最终的输出结果。\n",
    "\n",
    "### 3. `make_layer` 方法\n",
    "\n",
    "这是一个自定义的辅助函数，用于创建包含多个残差块的层。\n",
    "\n",
    "- 参数`block`是残差块的类型，`out_channels`是输出通道数，`blocks`是残差块的数量，`stride`是步幅。\n",
    "- `downsample`用于调整输入的尺寸以匹配残差块输出的尺寸（如果需要的话）。\n",
    "- `layers.append(...)`循环添加每个残差块到层中。\n",
    "\n",
    "### 应用场景\n",
    "\n",
    "这个简化的ResNet模型（特别是残差块）非常适用于图像识别任务，例如MNIST手写数字识别。通过残差连接，它可以有效地训练深层网络，解决传统深度神经网络中的梯度消失问题，提高模型在复杂图像任务上的性能。"
   ]
  },
  {
   "cell_type": "markdown",
   "metadata": {},
   "source": [
    "## 残差网络（ResNet）与残差块（Residual Block）\n",
    "\n",
    "基于上面定义的SimplifiedResNet模型，我们可以深入探讨残差块（Residual Block）与ResNet（Residual Network）之间的关联，以及背后的数学原理。\n",
    "\n",
    "### 残差块（Residual Block）\n",
    "\n",
    "残差块是ResNet的基本构建单元。每个残差块尝试学习输入与输出之间的残差（或差异），而不是直接学习输出。这种设计的关键点在于“跳跃连接”（或称为“快捷连接”），它允许输入直接跳过一些层并加到更深层的输出上。\n",
    "\n",
    "#### 数学表达\n",
    "\n",
    "设$ x $为残差块的输入，$ F(x) $为块内的卷积操作（包括激活函数），残差块的输出可以表示为：\n",
    "\n",
    "$$ H(x) = F(x) + x $$\n",
    "\n",
    "其中，$ H(x) $是残差块的输出，$ F(x) $是残差块内部的运算，$ x $是残差块的输入。这种结构允许网络学习的目标变成残差$ F(x) $，即$ H(x) - x $。\n",
    "\n",
    "如果输入和输出的维度不匹配（例如，在改变通道数或步幅的情况下），则可以通过一个线性变换$ W_s $调整输入$ x $的尺寸，使其匹配：\n",
    "\n",
    "$$ H(x) = F(x) + W_s x $$\n",
    "\n",
    "### ResNet的架构\n",
    "\n",
    "ResNet由多个残差块堆叠而成。在传统的深度神经网络中，增加网络深度往往会导致性能下降，主要原因是梯度消失或爆炸问题。ResNet通过引入跳跃连接，解决了这一问题，使得可以构建更深的网络而不损失性能。\n",
    "\n",
    "#### 背后的数学原理\n",
    "\n",
    "1. **缓解梯度消失/爆炸**：在反向传播时，跳跃连接允许梯度直接流回更早的层，这有助于减轻梯度消失或爆炸问题。\n",
    "\n",
    "2. **网络易于优化**：由于残差块学习的是残差，而不是直接学习输出，这使得网络更易于优化。即使网络很深，它也能保持良好的收敛性。\n",
    "\n",
    "3. **恒等映射的学习**：如果一个残差块需要学习的目标输出与输入相同（即恒等映射），它可以通过将$ F(x) $设为0来实现，这比在传统网络中直接学习恒等映射要容易得多。\n",
    "\n",
    "### 结论\n",
    "\n",
    "残差块的设计和ResNet的架构使得深度学习模型能够从更深层次的网络中受益，而不受到过去深度模型常见的问题影响。通过在每个残差块中学习输入和输出之间的差异，ResNet能够有效地训练深层网络，改善了深度神经网络在多个领域的应用性能，特别是在图像处理和计算机视觉领域。"
   ]
  },
  {
   "cell_type": "markdown",
   "metadata": {},
   "source": [
    "# Next Goal: 10 kinds of neural networks\n",
    "\n",
    "深度学习领域有许多不同类型的神经网络，每种网络都有其独特的结构和适用场景。以下是一些常见的神经网络类型：\n",
    "\n",
    "### 1. 卷积神经网络（CNN）\n",
    "\n",
    "- **特点**：由一个或多个卷积层组成，通常配有池化层、全连接层（Dense层）。\n",
    "- **应用**：广泛用于图像处理、视频分析、图像分类等视觉任务。\n",
    "\n",
    "### 2. 循环神经网络（RNN）\n",
    "\n",
    "- **特点**：能够处理序列数据，具有记忆前面状态的能力。\n",
    "- **应用**：常用于自然语言处理、语音识别、时间序列预测等任务。\n",
    "\n",
    "### 3. 长短期记忆网络（LSTM）\n",
    "\n",
    "- **特点**：一种特殊的RNN，能够学习长期依赖关系，解决了普通RNN中的梯度消失问题。\n",
    "- **应用**：适用于需要长期记忆和理解的任务，如机器翻译、语音识别、文本生成等。\n",
    "\n",
    "### 4. 门控循环单元网络（GRU）\n",
    "\n",
    "- **特点**：与LSTM类似，但结构更简单。\n",
    "- **应用**：同样适用于处理序列数据，如语言建模、文本生成。\n",
    "\n",
    "### 5. 残差网络（ResNet）\n",
    "\n",
    "- **特点**：通过残差连接解决了深度网络中的梯度消失问题。\n",
    "- **应用**：深度图像识别、图像分类等。\n",
    "\n",
    "### 6. 生成对抗网络（GAN）\n",
    "\n",
    "- **特点**：由生成器和判别器组成，生成器生成数据，判别器评估数据。\n",
    "- **应用**：图像生成、风格转换、数据增强。\n",
    "\n",
    "### 7. Transformer\n",
    "\n",
    "- **特点**：基于注意力机制，不依赖于序列的时间步骤，能够并行处理序列数据。\n",
    "- **应用**：在自然语言处理领域非常成功，如BERT、GPT系列模型。\n",
    "\n",
    "### 8. 自编码器（Autoencoder）\n",
    "\n",
    "- **特点**：包含编码器和解码器，用于学习数据的高效表示（编码）。\n",
    "- **应用**：降维、特征提取、图像去噪。\n",
    "\n",
    "### 9. 变分自编码器（VAE）\n",
    "\n",
    "- **特点**：一种生成模型，通过编码器将数据映射到潜在空间，然后通过解码器重建数据。\n",
    "- **应用**：图像生成、图像风格转换。\n",
    "\n",
    "### 10. 空间变换器网络（STN）\n",
    "\n",
    "- **特点**：能够显式地变换数据中的空间位置。\n",
    "- **应用**：图像对齐、图像矫正等。\n",
    "\n",
    "这些神经网络类型各有特色，适用于不同的深度学习任务。在实际应用中，可以根据任务的需求选择或结合使用这些不同类型的网络。随着深度学习领域的不断发展，还会出现更多新型的神经网络结构。"
   ]
  }
 ],
 "metadata": {
  "kernelspec": {
   "display_name": "myenv",
   "language": "python",
   "name": "python3"
  },
  "language_info": {
   "codemirror_mode": {
    "name": "ipython",
    "version": 3
   },
   "file_extension": ".py",
   "mimetype": "text/x-python",
   "name": "python",
   "nbconvert_exporter": "python",
   "pygments_lexer": "ipython3",
   "version": "3.7.12"
  }
 },
 "nbformat": 4,
 "nbformat_minor": 2
}
