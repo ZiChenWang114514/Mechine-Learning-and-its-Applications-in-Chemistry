{
 "cells": [
  {
   "cell_type": "markdown",
   "metadata": {},
   "source": [
    "# Handwriting Number Recognition"
   ]
  },
  {
   "cell_type": "markdown",
   "metadata": {},
   "source": [
    "## 设计思路\n",
    "\n",
    "### 1.总体思路\n",
    "\n",
    "基于神经网络的手写数字识别系统的设计可以分为以下几个步骤：\n",
    "\n",
    "1. **数据收集与预处理**:\n",
    "    - **数据集选择**: 使用公开的手写数字数据集，如MNIST，这是一个包含60,000个训练样本和10,000个测试样本的数据集，每个样本都是28x28的灰度图像。\n",
    "    - **数据预处理**: 对图像进行归一化，使其值范围在[0,1]之间。可能还需要进行数据增强，如旋转、缩放等，以增加模型的泛化能力。\n",
    "\n",
    "2. **模型设计**:\n",
    "    - **输入层**: 由于MNIST图像的大小为28x28，所以输入层应有784个神经元。\n",
    "    - **隐藏层**: 可以选择一个或多个隐藏层。对于简单的模型，可以使用一个包含128或256个神经元的隐藏层。对于更复杂的模型，可以使用更多的隐藏层和神经元。\n",
    "    - **输出层**: 由于有10个数字（0-9），所以输出层应有10个神经元。使用softmax激活函数，以得到每个数字的概率。\n",
    "\n",
    "3. **模型训练**:\n",
    "    - **损失函数**: 使用交叉熵损失函数。\n",
    "    - **优化器**: 如Adam、SGD等。\n",
    "    - **训练周期**: 根据模型的表现进行调整，通常可以从10-20个周期开始。\n",
    "\n",
    "4. **模型评估与优化**:\n",
    "    - 使用测试数据集评估模型的准确性。\n",
    "    - 如果准确性不满意，可以尝试更改模型结构、增加数据增强、更改学习率等。\n",
    "\n",
    "5. **部署**:\n",
    "    - 将训练好的模型部署到应用中，如手机应用、网页应用等。\n",
    "    - 使用模型进行实时或批量的手写数字识别。\n",
    "\n",
    "6. **维护与更新**:\n",
    "    - 定期收集新的手写样本，用于模型的进一步训练和优化。\n",
    "    - 根据用户反馈进行模型的更新和优化。\n",
    "\n",
    "这只是一个基本的设计思路，根据实际需求和资源，可能需要进行相应的调整和优化。"
   ]
  },
  {
   "cell_type": "markdown",
   "metadata": {},
   "source": [
    "### 2\n",
    "\n",
    "基于神经网络的手写数字识别程序的设计可以分为以下五个主要步骤：\n",
    "\n",
    "1. **数据加载与预处理**:\n",
    "    - 使用库（如TensorFlow或PyTorch）加载MNIST数据集。\n",
    "    - 对数据进行归一化和形状调整。\n",
    "    - 分割数据集为训练集、验证集和测试集。\n",
    "\n",
    "2. **模型构建**:\n",
    "    - 定义模型结构，如输入层、隐藏层和输出层。\n",
    "    - 选择激活函数，如ReLU、softmax等。\n",
    "    - 定义损失函数和优化器。\n",
    "\n",
    "3. **模型训练**:\n",
    "    - 使用训练数据集训练模型。\n",
    "    - 在每个训练周期结束后，使用验证集评估模型的表现。\n",
    "    - 根据验证集的表现调整模型参数或学习率。\n",
    "\n",
    "4. **模型评估**:\n",
    "    - 使用测试数据集评估模型的准确性。\n",
    "    - 可能需要绘制混淆矩阵、计算精确度、召回率等指标。\n",
    "\n",
    "5. **模型保存与部署**:\n",
    "    - 保存训练好的模型参数。\n",
    "    - 将模型部署到目标平台或应用。\n",
    "\n",
    "接下来，我可以为您提供一个简单的基于TensorFlow的手写数字识别程序的代码示例，您是否需要？"
   ]
  },
  {
   "cell_type": "code",
   "execution_count": 1,
   "metadata": {},
   "outputs": [
    {
     "name": "stdout",
     "output_type": "stream",
     "text": [
      "Downloading http://yann.lecun.com/exdb/mnist/train-images-idx3-ubyte.gz\n",
      "Downloading http://yann.lecun.com/exdb/mnist/train-images-idx3-ubyte.gz to ./data\\MNIST\\raw\\train-images-idx3-ubyte.gz\n"
     ]
    },
    {
     "name": "stderr",
     "output_type": "stream",
     "text": [
      "100%|██████████| 9912422/9912422 [00:03<00:00, 3245163.79it/s]\n"
     ]
    },
    {
     "name": "stdout",
     "output_type": "stream",
     "text": [
      "Extracting ./data\\MNIST\\raw\\train-images-idx3-ubyte.gz to ./data\\MNIST\\raw\n",
      "\n",
      "Downloading http://yann.lecun.com/exdb/mnist/train-labels-idx1-ubyte.gz\n",
      "Downloading http://yann.lecun.com/exdb/mnist/train-labels-idx1-ubyte.gz to ./data\\MNIST\\raw\\train-labels-idx1-ubyte.gz\n"
     ]
    },
    {
     "name": "stderr",
     "output_type": "stream",
     "text": [
      "100%|██████████| 28881/28881 [00:00<00:00, 146908.07it/s]\n"
     ]
    },
    {
     "name": "stdout",
     "output_type": "stream",
     "text": [
      "Extracting ./data\\MNIST\\raw\\train-labels-idx1-ubyte.gz to ./data\\MNIST\\raw\n",
      "\n",
      "Downloading http://yann.lecun.com/exdb/mnist/t10k-images-idx3-ubyte.gz\n",
      "Downloading http://yann.lecun.com/exdb/mnist/t10k-images-idx3-ubyte.gz to ./data\\MNIST\\raw\\t10k-images-idx3-ubyte.gz\n"
     ]
    },
    {
     "name": "stderr",
     "output_type": "stream",
     "text": [
      "100%|██████████| 1648877/1648877 [00:02<00:00, 816179.13it/s] \n"
     ]
    },
    {
     "name": "stdout",
     "output_type": "stream",
     "text": [
      "Extracting ./data\\MNIST\\raw\\t10k-images-idx3-ubyte.gz to ./data\\MNIST\\raw\n",
      "\n",
      "Downloading http://yann.lecun.com/exdb/mnist/t10k-labels-idx1-ubyte.gz\n",
      "Downloading http://yann.lecun.com/exdb/mnist/t10k-labels-idx1-ubyte.gz to ./data\\MNIST\\raw\\t10k-labels-idx1-ubyte.gz\n"
     ]
    },
    {
     "name": "stderr",
     "output_type": "stream",
     "text": [
      "100%|██████████| 4542/4542 [00:00<?, ?it/s]\n"
     ]
    },
    {
     "name": "stdout",
     "output_type": "stream",
     "text": [
      "Extracting ./data\\MNIST\\raw\\t10k-labels-idx1-ubyte.gz to ./data\\MNIST\\raw\n",
      "\n",
      "Test Accuracy: 96.14%\n",
      "模型已保存!\n"
     ]
    }
   ],
   "source": [
    "# 导入所需的库\n",
    "import torch\n",
    "import torch.nn as nn\n",
    "import torch.optim as optim\n",
    "import torchvision\n",
    "from torchvision import datasets, transforms\n",
    "\n",
    "# 1. 数据加载与预处理\n",
    "transform = transforms.Compose([\n",
    "    transforms.ToTensor(),\n",
    "    transforms.Normalize((0.5,), (0.5,))\n",
    "])\n",
    "\n",
    "train_dataset = datasets.MNIST(root='./data', train=True, download=True, transform=transform)\n",
    "test_dataset = datasets.MNIST(root='./data', train=False, download=True, transform=transform)\n",
    "\n",
    "train_loader = torch.utils.data.DataLoader(train_dataset, batch_size=32, shuffle=True)\n",
    "test_loader = torch.utils.data.DataLoader(test_dataset, batch_size=32, shuffle=False)\n",
    "\n",
    "# 2. 模型构建\n",
    "class Net(nn.Module):\n",
    "    def __init__(self):\n",
    "        super(Net, self).__init__()\n",
    "        self.flatten = nn.Flatten()\n",
    "        self.fc1 = nn.Linear(28*28, 128)\n",
    "        self.fc2 = nn.Linear(128, 10)\n",
    "\n",
    "    def forward(self, x):\n",
    "        x = self.flatten(x)\n",
    "        x = torch.relu(self.fc1(x))\n",
    "        x = torch.softmax(self.fc2(x), dim=1)\n",
    "        return x\n",
    "\n",
    "model = Net()\n",
    "\n",
    "# 编译模型\n",
    "criterion = nn.CrossEntropyLoss()\n",
    "optimizer = optim.Adam(model.parameters())\n",
    "\n",
    "# 3. 模型训练\n",
    "for epoch in range(10):\n",
    "    for images, labels in train_loader:\n",
    "        optimizer.zero_grad()\n",
    "        outputs = model(images)\n",
    "        loss = criterion(outputs, labels)\n",
    "        loss.backward()\n",
    "        optimizer.step()\n",
    "\n",
    "# 4. 模型评估\n",
    "correct = 0\n",
    "total = 0\n",
    "with torch.no_grad():\n",
    "    for images, labels in test_loader:\n",
    "        outputs = model(images)\n",
    "        _, predicted = torch.max(outputs.data, 1)\n",
    "        total += labels.size(0)\n",
    "        correct += (predicted == labels).sum().item()\n",
    "\n",
    "test_acc = correct / total\n",
    "print(f\"Test Accuracy: {test_acc * 100:.2f}%\")\n",
    "\n",
    "# 5. 模型保存\n",
    "torch.save(model.state_dict(), 'mnist_digit_recognition_model.pth')\n",
    "\n",
    "print(\"模型已保存!\")\n"
   ]
  },
  {
   "cell_type": "markdown",
   "metadata": {},
   "source": [
    "以下 TensorFlow 需要使用 python 3.10.4 以下的版本"
   ]
  },
  {
   "cell_type": "code",
   "execution_count": null,
   "metadata": {},
   "outputs": [],
   "source": [
    "# 导入所需的库\n",
    "import tensorflow as tf\n",
    "from tensorflow.keras.datasets import mnist\n",
    "from tensorflow.keras.models import Sequential\n",
    "from tensorflow.keras.layers import Dense, Flatten\n",
    "from tensorflow.keras.utils import to_categorical\n",
    "\n",
    "# 1. 数据加载与预处理\n",
    "(train_images, train_labels), (test_images, test_labels) = mnist.load_data()\n",
    "\n",
    "# 归一化\n",
    "train_images = train_images / 255.0\n",
    "test_images = test_images / 255.0\n",
    "\n",
    "# 将标签转换为one-hot编码\n",
    "train_labels = to_categorical(train_labels)\n",
    "test_labels = to_categorical(test_labels)\n",
    "\n",
    "# 2. 模型构建\n",
    "model = Sequential([\n",
    "    Flatten(input_shape=(28, 28)),  # 输入层\n",
    "    Dense(128, activation='relu'),  # 隐藏层\n",
    "    Dense(10, activation='softmax')  # 输出层\n",
    "])\n",
    "\n",
    "# 编译模型\n",
    "model.compile(optimizer='adam',\n",
    "              loss='categorical_crossentropy',\n",
    "              metrics=['accuracy'])\n",
    "\n",
    "# 3. 模型训练\n",
    "model.fit(train_images, train_labels, epochs=10, batch_size=32, validation_split=0.2)\n",
    "\n",
    "# 4. 模型评估\n",
    "test_loss, test_acc = model.evaluate(test_images, test_labels)\n",
    "print(f\"Test Accuracy: {test_acc * 100:.2f}%\")\n",
    "\n",
    "# 5. 模型保存\n",
    "model.save('mnist_digit_recognition_model.h5')\n",
    "\n",
    "print(\"模型已保存!\")\n"
   ]
  }
 ],
 "metadata": {
  "kernelspec": {
   "display_name": "base",
   "language": "python",
   "name": "python3"
  },
  "language_info": {
   "codemirror_mode": {
    "name": "ipython",
    "version": 3
   },
   "file_extension": ".py",
   "mimetype": "text/x-python",
   "name": "python",
   "nbconvert_exporter": "python",
   "pygments_lexer": "ipython3",
   "version": "3.11.5"
  }
 },
 "nbformat": 4,
 "nbformat_minor": 2
}
